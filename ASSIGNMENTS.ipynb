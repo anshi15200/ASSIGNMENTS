{
  "nbformat": 4,
  "nbformat_minor": 0,
  "metadata": {
    "colab": {
      "provenance": []
    },
    "kernelspec": {
      "name": "python3",
      "display_name": "Python 3"
    },
    "language_info": {
      "name": "python"
    }
  },
  "cells": [
    {
      "cell_type": "markdown",
      "source": [
        "# What is the difference between static and dynamic variables in Python"
      ],
      "metadata": {
        "id": "dpl7iwiHNVLc"
      }
    },
    {
      "cell_type": "markdown",
      "source": [
        "\n",
        "\n",
        "1.==> STATIC VARIABLE:\n",
        "static variable are also called class variables.they are defined inside class before any init method\n",
        "2 ==> DYNAMIC VARIABLE:\n",
        "dynamic variable are also called instance variables. they are defined inside the inside method or any other instance method.\n",
        "\n"
      ],
      "metadata": {
        "id": "rtlTbxo5NchH"
      }
    },
    {
      "cell_type": "code",
      "execution_count": null,
      "metadata": {
        "id": "d78eO9a7MvDi"
      },
      "outputs": [],
      "source": [
        "class MyClass:\n",
        "    static_variable = \"This is a static variable\"\n",
        "\n",
        "    def __init__(self, dynamic_variable):\n",
        "        self.dynamic_variable = dynamic_variable\n"
      ]
    },
    {
      "cell_type": "markdown",
      "source": [
        "# Explain the purpose of \"pop\",\"popitem\",\"clear()\" in a dictionary with suitable examples"
      ],
      "metadata": {
        "id": "S9CtpY4uPOyy"
      }
    },
    {
      "cell_type": "markdown",
      "source": [
        "\n",
        "\n",
        "*  POP()= pop  method is used to remove and returns the value associated with that key\n",
        "*  POPITEM()=popitem will remove a arbitrary element from the dictionary\n",
        "*  CLEAR()=clear method will remove all items from the dictionary\n",
        "\n",
        "\n",
        "\n",
        "\n"
      ],
      "metadata": {
        "id": "YVYqD1mVPWIl"
      }
    },
    {
      "cell_type": "code",
      "source": [
        "a={\"name\":\"anshika\",\"course\":\"fsds\",\"language\":\"Python\"}\n",
        "a.pop(\"language\")\n",
        "print(a)\n",
        "a.popitem()\n",
        "print(a)\n",
        "a.clear()"
      ],
      "metadata": {
        "colab": {
          "base_uri": "https://localhost:8080/"
        },
        "id": "cldS6ykCNYR5",
        "outputId": "d4e026bb-4bdc-4baa-f6d7-b83c64971718"
      },
      "execution_count": null,
      "outputs": [
        {
          "output_type": "stream",
          "name": "stdout",
          "text": [
            "{'name': 'anshika', 'course': 'fsds'}\n",
            "{'name': 'anshika'}\n"
          ]
        }
      ]
    },
    {
      "cell_type": "markdown",
      "source": [
        "# What do you mean by FrozenSet? Explain it with suitable examples"
      ],
      "metadata": {
        "id": "X9SYiPbvRKX9"
      }
    },
    {
      "cell_type": "markdown",
      "source": [
        "==> frozen set is a unordered collection of unique elements similar to set but it can not be modified after created thus it is immutable."
      ],
      "metadata": {
        "id": "L9SkI9r4RV0d"
      }
    },
    {
      "cell_type": "code",
      "source": [
        "frozen_set = frozenset([1, 2, 2, 3, 4, 4, 5])\n",
        "print(frozen_set)"
      ],
      "metadata": {
        "colab": {
          "base_uri": "https://localhost:8080/"
        },
        "id": "dgLt7QG6RGSo",
        "outputId": "55fb3cfe-5578-4b0e-b1d1-3f8c9878c832"
      },
      "execution_count": null,
      "outputs": [
        {
          "output_type": "stream",
          "name": "stdout",
          "text": [
            "frozenset({1, 2, 3, 4, 5})\n"
          ]
        }
      ]
    },
    {
      "cell_type": "markdown",
      "source": [
        "#  Differentiate between mutable and immutable data types in Python and give examples of mutable and immutable data types"
      ],
      "metadata": {
        "id": "x_2h9A7RRvXQ"
      }
    },
    {
      "cell_type": "markdown",
      "source": [
        "\n",
        "\n",
        "*   MUTABLE DATA TYPE: the data types which can be modified after being created are called mutable data types\n",
        "for ex- list, dictionary ,set\n",
        "*   IMMMUTABLE DATA TYPE:  the data types which are not modified or changed after being created are called immutable data types\n",
        "for ex- string, tuple, frozenset\n",
        "\n"
      ],
      "metadata": {
        "id": "wcJDYXk8Sar2"
      }
    },
    {
      "cell_type": "markdown",
      "source": [
        "# What is __init__?Explain with an example"
      ],
      "metadata": {
        "id": "yjvScNn0TWSp"
      }
    },
    {
      "cell_type": "markdown",
      "source": [
        "__init__ is a special method which is automatically called when object is created in the class. IT is used to set  initial stste of the object"
      ],
      "metadata": {
        "id": "IR8nGIwGTj52"
      }
    },
    {
      "cell_type": "code",
      "source": [
        "class student:\n",
        "    def __init__(self, name, age):\n",
        "        self.name = name\n",
        "        self.age = age\n",
        "    def greet(self):\n",
        "        print(f\"Hello, my name is {self.name} and I am {self.age} years old.\")\n",
        "\n",
        "\n",
        "student_instance = student(\"John\", 30)\n",
        "student_instance.greet()\n"
      ],
      "metadata": {
        "colab": {
          "base_uri": "https://localhost:8080/"
        },
        "id": "XzRngUFiRs2C",
        "outputId": "cc9e1fb6-7dd5-464a-bd46-136096208b65"
      },
      "execution_count": null,
      "outputs": [
        {
          "output_type": "stream",
          "name": "stdout",
          "text": [
            "Hello, my name is John and I am 30 years old.\n"
          ]
        }
      ]
    },
    {
      "cell_type": "markdown",
      "source": [
        "# What is docstring in Python?Explain with an example"
      ],
      "metadata": {
        "id": "K2MukzsQUtRm"
      }
    },
    {
      "cell_type": "markdown",
      "source": [
        "docstring is the string used to document the code description in detail such as what the code does, its parameters, return values, and any other information regarding to that code or function."
      ],
      "metadata": {
        "id": "MPXV4M8PUxte"
      }
    },
    {
      "cell_type": "code",
      "source": [
        "def addition(a,b):\n",
        "  '''\n",
        "   takes two numbers as argument.\n",
        "      add both numbers.\n",
        "      return the sum of two numbers\n",
        "      '''\n",
        "  return a+b\n",
        "print(addition(5,6))"
      ],
      "metadata": {
        "colab": {
          "base_uri": "https://localhost:8080/"
        },
        "id": "Du1nZpp0TzID",
        "outputId": "023ad334-794f-4028-ed62-00b9c48ec436"
      },
      "execution_count": null,
      "outputs": [
        {
          "output_type": "stream",
          "name": "stdout",
          "text": [
            "11\n"
          ]
        }
      ]
    },
    {
      "cell_type": "markdown",
      "source": [
        "#  What are unit tests in Python"
      ],
      "metadata": {
        "id": "0LoMIaTTV-VY"
      }
    },
    {
      "cell_type": "markdown",
      "source": [
        "A unit test is a small, isolated test that checks a specific piece of code to see if it behaves as expected.unit tests are written using \"unittest\" module.\n"
      ],
      "metadata": {
        "id": "W9mP0sanWRwX"
      }
    },
    {
      "cell_type": "markdown",
      "source": [
        "# What is break, continue and pass in Python"
      ],
      "metadata": {
        "id": "TZOt0DMRXisH"
      }
    },
    {
      "cell_type": "markdown",
      "source": [
        "BREAK: break statement is used to exit a loop and terminates it.\n",
        "CONTINUE:continnue statement is used to skip the current iteration and move on to the next iteration\n",
        "PASS: pass statement is used when we want no execution. by using this the code do nothing"
      ],
      "metadata": {
        "id": "dClw5IzXXm7T"
      }
    },
    {
      "cell_type": "code",
      "source": [
        "for i in range(5):\n",
        "    if i == 3:\n",
        "        break\n",
        "    print(i)\n",
        "\n",
        "print(\"Loop ended\")\n",
        "\n",
        "\n"
      ],
      "metadata": {
        "colab": {
          "base_uri": "https://localhost:8080/"
        },
        "id": "gToY2QJsV1Ri",
        "outputId": "7ffa4cf3-813c-4a6e-b6d3-e5581c9811da"
      },
      "execution_count": null,
      "outputs": [
        {
          "output_type": "stream",
          "name": "stdout",
          "text": [
            "0\n",
            "1\n",
            "2\n",
            "Loop ended\n"
          ]
        }
      ]
    },
    {
      "cell_type": "code",
      "source": [
        "for i in range(5):\n",
        "  if i==2:\n",
        "     continue\n",
        "  print(i)"
      ],
      "metadata": {
        "colab": {
          "base_uri": "https://localhost:8080/"
        },
        "id": "zO4n3__AZQe3",
        "outputId": "aa33a9ad-bbe9-43f4-f8db-042282ce6e60"
      },
      "execution_count": null,
      "outputs": [
        {
          "output_type": "stream",
          "name": "stdout",
          "text": [
            "0\n",
            "1\n",
            "3\n",
            "4\n"
          ]
        }
      ]
    },
    {
      "cell_type": "code",
      "source": [
        "for i in range(5):\n",
        "  pass"
      ],
      "metadata": {
        "id": "XSGLY7iSZxww"
      },
      "execution_count": null,
      "outputs": []
    },
    {
      "cell_type": "markdown",
      "source": [
        "# What is the use of self in Python"
      ],
      "metadata": {
        "id": "aLnBejiXZ8G6"
      }
    },
    {
      "cell_type": "markdown",
      "source": [
        "self is used to refer the instance of the class. this can used to operate on class data"
      ],
      "metadata": {
        "id": "ZYvmlBKpaGvq"
      }
    },
    {
      "cell_type": "code",
      "source": [
        "class student:\n",
        "    def __init__(self, name, age):\n",
        "        self.name = name\n",
        "        self.age = age\n",
        "    def greet(self):\n",
        "        print(f\"Hello, my name is {self.name} and I am {self.age} years old.\")\n",
        "\n",
        "\n",
        "student_instance = student(\"John\", 30)\n",
        "student_instance.greet()\n"
      ],
      "metadata": {
        "colab": {
          "base_uri": "https://localhost:8080/"
        },
        "id": "ypRZd95fZ4-o",
        "outputId": "0109ad98-1ab5-4114-c009-84d2803656bb"
      },
      "execution_count": null,
      "outputs": [
        {
          "output_type": "stream",
          "name": "stdout",
          "text": [
            "Hello, my name is John and I am 30 years old.\n"
          ]
        }
      ]
    },
    {
      "cell_type": "markdown",
      "source": [
        "# What are global, protected and private attributes in Python"
      ],
      "metadata": {
        "id": "utlb-3y6az-J"
      }
    },
    {
      "cell_type": "markdown",
      "source": [
        "\n",
        "\n",
        "*   GLOBAL ATTRIBUTES: global attributes are defined before the function.And can be accessed anywhere in the module\n",
        "*   PUBLIC ATTRIBUTES: public attributes can be accesed directly from outside the class\n",
        "*   PROTECTED ATTRIBUTES:Protected attributes are those that are intended to be accessed only within the class and its subclasses\n",
        "\n",
        "\n",
        "\n",
        "\n"
      ],
      "metadata": {
        "id": "ncVOm-h5a8Gn"
      }
    },
    {
      "cell_type": "code",
      "source": [
        "# mymodule.py\n",
        "MY_GLOBAL_VAR = 42\n",
        "\n",
        "def my_function():\n",
        "    print(MY_GLOBAL_VAR)\n",
        "\n",
        "class MyClass:\n",
        "    def __init__(self):\n",
        "        self.my_public_attr = 42\n",
        "\n",
        "my_obj = MyClass()\n",
        "print(my_obj.my_public_attr)\n",
        "\n",
        "class MyClass:\n",
        "    def __init__(self):\n",
        "        self._my_protected_attr = 42\n",
        "\n",
        "class MySubclass(MyClass):\n",
        "    def my_method(self):\n",
        "        print(self._my_protected_attr)\n",
        "\n",
        "my_obj = MyClass()\n",
        "print(my_obj._my_protected_attr)"
      ],
      "metadata": {
        "colab": {
          "base_uri": "https://localhost:8080/"
        },
        "id": "LerAdl2payGQ",
        "outputId": "b5520516-49c3-41e2-b7a5-b53f7cc68373"
      },
      "execution_count": null,
      "outputs": [
        {
          "output_type": "stream",
          "name": "stdout",
          "text": [
            "42\n",
            "42\n"
          ]
        }
      ]
    },
    {
      "cell_type": "markdown",
      "source": [
        "# What are modules and packages in Python"
      ],
      "metadata": {
        "id": "Dv-ivid0dGi4"
      }
    },
    {
      "cell_type": "markdown",
      "source": [
        "module is a python file with .py extension . It can contain any number of functions,classes and variables to reuse in any python file.\n",
        "comsolidating all the related modules inside a directory  is called a package."
      ],
      "metadata": {
        "id": "Yz4EMFKadWAA"
      }
    },
    {
      "cell_type": "markdown",
      "source": [
        "# What are lists and tuples? What is the key difference between the two"
      ],
      "metadata": {
        "id": "H2Kmy2TPe4gS"
      }
    },
    {
      "cell_type": "markdown",
      "source": [
        "list and tuples are the data types used to store multiple values in single variable.\n",
        "\n",
        "*   List  are mutable, ordered and can be accesed by indexing. list uses square brackets [] to store data\n",
        "*   tuples are immutable, ordered and accesed by indexing. tuples used parenthesis () to store data\n",
        "\n"
      ],
      "metadata": {
        "id": "lFlI8HLrfCFf"
      }
    },
    {
      "cell_type": "code",
      "source": [
        "list=[1,2,3,4,5]\n",
        "print(list)\n",
        "tuple=(1,2,3,4,5)\n",
        "print(tuple)"
      ],
      "metadata": {
        "colab": {
          "base_uri": "https://localhost:8080/"
        },
        "id": "nc0nUW-Me1dW",
        "outputId": "b83b6c79-407d-4cf5-b3f0-c198135ce3ed"
      },
      "execution_count": null,
      "outputs": [
        {
          "output_type": "stream",
          "name": "stdout",
          "text": [
            "[1, 2, 3, 4, 5]\n",
            "(1, 2, 3, 4, 5)\n"
          ]
        }
      ]
    },
    {
      "cell_type": "markdown",
      "source": [
        "# What is an Interpreted language & dynamically typed language?Write 5 differences between the"
      ],
      "metadata": {
        "id": "pOPHagOSmBc1"
      }
    },
    {
      "cell_type": "markdown",
      "source": [
        "\n",
        "\n",
        "1.  ** INTERPRETED LANGUAGE**\n",
        "\n",
        "*   EXECUTION: interpreted language are those values which executed their code step by step by converting into bytecode.\n",
        "*   EXAMPLES: Python ,ruby\n",
        "*   DEVELOPMENT:interpreted language has faster development cycle sas they do not need complilation before execution.\n",
        "*   PERFORMANCE:slower than compiled language\n",
        "\n",
        "\n",
        "2.   **DYNAMICALLY TYPE LANGUAGE**\n",
        "\n",
        "*   EXECUTION: in dynamically type language , data type is checked at runtime\n",
        "*   EXAMPLES:Javascript,PHP\n",
        "*   DEVELOPMENT:faster as user can not have to define variable type\n",
        "*   PERFORMANCE:slower than statically type compiled language\n",
        "\n",
        "\n",
        "\n",
        "\n",
        "\n"
      ],
      "metadata": {
        "id": "sYUanT4gmcfw"
      }
    },
    {
      "cell_type": "markdown",
      "source": [
        "# What are Dict and List comprehensions"
      ],
      "metadata": {
        "id": "cpAx3JElq-vg"
      }
    },
    {
      "cell_type": "markdown",
      "source": [
        "\n",
        "\n",
        "\n",
        "\n",
        "1.  **DICTIONARY**\n",
        "dictionary is a data type to store data in form of key value pairs.we can access data by passinng key.\n",
        "Dictionary is represented in curly brackets {}  in key value seperated by comma\n",
        "2.   **LIST COMPREHENSION**\n",
        "list comprehension is way too achieve the sqame results but with the less code and more readable syntax.\n",
        "syntax for list comprehension is\n",
        "[expression for item in iterable if condition]\n",
        "\n",
        "\n"
      ],
      "metadata": {
        "id": "pJSONMqyrEaO"
      }
    },
    {
      "cell_type": "code",
      "source": [
        "dict={\"name\":\"anshika\",\"course\":\"datacsience\"}\n",
        "print(dict)\n",
        "square=[i**2 for i in range (5)]\n",
        "print(square)"
      ],
      "metadata": {
        "id": "VE1_lI8Ieo-T",
        "colab": {
          "base_uri": "https://localhost:8080/"
        },
        "outputId": "a3954169-f706-4556-cb4a-9b44d0613dd2"
      },
      "execution_count": null,
      "outputs": [
        {
          "output_type": "stream",
          "name": "stdout",
          "text": [
            "{'name': 'anshika', 'course': 'datacsience'}\n",
            "[0, 1, 4, 9, 16]\n"
          ]
        }
      ]
    },
    {
      "cell_type": "markdown",
      "source": [
        "# What are decorators in Python? Explain it with an example.Write down its use cases8"
      ],
      "metadata": {
        "id": "5dZwv3Scs-Ml"
      }
    },
    {
      "cell_type": "markdown",
      "source": [
        "Decorators are used by @decorator_name syntax in python which modifies the behaviour of the function without changing the actual code of the function"
      ],
      "metadata": {
        "id": "s7OnZix8tBxn"
      }
    },
    {
      "cell_type": "code",
      "source": [
        "def log_function_call(func):\n",
        "    def wrapper(*args, **kwargs):\n",
        "        print(f\"Calling {func.__name__} with args: {args}, kwargs: {kwargs}\")\n",
        "        result = func(*args, **kwargs)\n",
        "        print(f\"{func.__name__} returned: {result}\")\n",
        "        return result\n",
        "    return wrapper\n",
        "\n",
        "@log_function_call\n",
        "def add(a, b):\n",
        "    return a + b\n",
        "\n",
        "add(3, 5)\n"
      ],
      "metadata": {
        "colab": {
          "base_uri": "https://localhost:8080/"
        },
        "id": "j5DRRbjls5lx",
        "outputId": "94bf8602-8f6a-4974-92be-0b98978db939"
      },
      "execution_count": null,
      "outputs": [
        {
          "output_type": "stream",
          "name": "stdout",
          "text": [
            "Calling add with args: (3, 5), kwargs: {}\n",
            "add returned: 8\n"
          ]
        },
        {
          "output_type": "execute_result",
          "data": {
            "text/plain": [
              "8"
            ]
          },
          "metadata": {},
          "execution_count": 3
        }
      ]
    },
    {
      "cell_type": "markdown",
      "source": [
        "# How is memory managed in Python"
      ],
      "metadata": {
        "id": "SRnnoEH1uMES"
      }
    },
    {
      "cell_type": "markdown",
      "source": [
        "Python uses heap structure to store all the functions, and other important things.\n",
        "Python have a inbuilt memory management system which handles allocation and deallocation of the code"
      ],
      "metadata": {
        "id": "QxPLFy7ZuTO-"
      }
    },
    {
      "cell_type": "markdown",
      "source": [
        "# What is lambda in Python? Why is it used"
      ],
      "metadata": {
        "id": "W8FeDYxxwcfR"
      }
    },
    {
      "cell_type": "markdown",
      "source": [
        "Lambda function is defined by \" lambda\" keyword.lambda function function is used when we only want a simple one liner code"
      ],
      "metadata": {
        "id": "LfsRmVyrwt7p"
      }
    },
    {
      "cell_type": "code",
      "source": [
        "add = lambda x, y: x + y\n",
        "print(add(3, 5))\n"
      ],
      "metadata": {
        "colab": {
          "base_uri": "https://localhost:8080/"
        },
        "id": "ShiIGgC5tyEV",
        "outputId": "19d8d819-e75c-4b17-dff0-0c2865ce718b"
      },
      "execution_count": null,
      "outputs": [
        {
          "output_type": "stream",
          "name": "stdout",
          "text": [
            "8\n"
          ]
        }
      ]
    },
    {
      "cell_type": "markdown",
      "source": [
        "# Explain split()and join() functions in Python"
      ],
      "metadata": {
        "id": "bgZVF156xUDM"
      }
    },
    {
      "cell_type": "markdown",
      "source": [
        "\n",
        "\n",
        "*   SPLIT\n",
        "    split() method is used in string for split string into words or substring. \"sep\" is the optional argument passed in split() method which describes on which we want to split string\n",
        "*   JOIN\n",
        "    join() method is used to concatenate list into a single string\n",
        "\n"
      ],
      "metadata": {
        "id": "cNLDarN0xbRH"
      }
    },
    {
      "cell_type": "code",
      "source": [
        "str= \"HII I AM ANSHIKA\"\n",
        "words=str.split()\n",
        "print(words)\n",
        "list=[\"I\",\"AM\",\"LEARNING\",\"PYTHON\"]\n",
        "str1=\" \".join(list)\n",
        "print(str1)"
      ],
      "metadata": {
        "colab": {
          "base_uri": "https://localhost:8080/"
        },
        "id": "CS8_xOv5zKMW",
        "outputId": "32a7be12-02f1-4a9c-ff8c-df431eb44a24"
      },
      "execution_count": null,
      "outputs": [
        {
          "output_type": "stream",
          "name": "stdout",
          "text": [
            "['HII', 'I', 'AM', 'ANSHIKA']\n",
            "I AM LEARNING PYTHON\n"
          ]
        }
      ]
    },
    {
      "cell_type": "markdown",
      "source": [
        "# What are iterators , iterable & generators in Python"
      ],
      "metadata": {
        "id": "1Fk3S0nez3U6"
      }
    },
    {
      "cell_type": "markdown",
      "source": [
        "**ITERABLE**\n",
        "iterable are object capable of returning its members one at a time by using iter() function.\n",
        "**ITERATOR**\n",
        "It implements \"__iter__\" method that returns iterable object itself.\n",
        "Iterators are used to iterate over iterables\n",
        "**GENERATOR**\n",
        "produce a sequence of values using \"yield\" instead of \" return\""
      ],
      "metadata": {
        "id": "6IOvlj9v0X1k"
      }
    },
    {
      "cell_type": "code",
      "source": [
        "## iterable\n",
        "l=[1,2,3,4,5]\n",
        "for item in l:\n",
        "  print(item)\n",
        "\n",
        "## iterator\n",
        "l1=[1,2,3]\n",
        "my_iter= iter(l1)\n",
        "print(next(my_iter))\n",
        "print(next(my_iter))\n",
        "print(next(my_iter))\n",
        "\n",
        "## generator\n",
        "def square_numbers(n):\n",
        "    for i in range(n):\n",
        "        yield i ** 2\n",
        "squares = square_numbers(5)\n",
        "for square in squares:\n",
        "    print(square)\n",
        "\n"
      ],
      "metadata": {
        "colab": {
          "base_uri": "https://localhost:8080/"
        },
        "id": "iezM-dPW0U4M",
        "outputId": "f9a3417a-351c-4748-c0d5-a3fabbdd1c22"
      },
      "execution_count": null,
      "outputs": [
        {
          "output_type": "stream",
          "name": "stdout",
          "text": [
            "1\n",
            "2\n",
            "3\n",
            "4\n",
            "5\n",
            "1\n",
            "2\n",
            "3\n",
            "0\n",
            "1\n",
            "4\n",
            "9\n",
            "16\n"
          ]
        }
      ]
    },
    {
      "cell_type": "markdown",
      "source": [
        "# What is the difference between xrange and range in Python"
      ],
      "metadata": {
        "id": "vBLPw2luU3qO"
      }
    },
    {
      "cell_type": "markdown",
      "source": [
        "\n",
        "\n",
        "1.   **RANGE**\n",
        "*   RETURN TYPE: range returns list of numbers\n",
        "*   MEMORY:more memory comsumption\n",
        "*   SPEED: slower\n",
        "*   VERSION:works in python 2 and python 3\n",
        "\n",
        "\n",
        "\n",
        "\n",
        "\n",
        "2.   **XRANGE**\n",
        "*   RETURN TYPE: Xrange returns iterator object\n",
        "*   MEMORY:less memory comsumption\n",
        "*   SPEED: faster\n",
        "*   VERSION:No longer exists\n",
        "\n",
        "\n"
      ],
      "metadata": {
        "id": "CMRDP5WEVTBO"
      }
    },
    {
      "cell_type": "markdown",
      "source": [
        "# Pillars of Oops"
      ],
      "metadata": {
        "id": "g4FFzEIaWU8P"
      }
    },
    {
      "cell_type": "markdown",
      "source": [
        "There are four main pillars of OOPS:\n",
        "\n",
        "\n",
        "1.   ENCAPSULATION:concept of bundling data and methods\n",
        "2.   ABSTRACTION: hiding the implementation and show only necessary details and code\n",
        "3.   INHERITANCE: inheriting the attributes and the methods of existing class\n",
        "4.   POLYMORPHISM:having multiple forms of single entity\n",
        "\n",
        "\n",
        "\n"
      ],
      "metadata": {
        "id": "q5XnPQeeWb03"
      }
    },
    {
      "cell_type": "markdown",
      "source": [
        "# How will you check if a class is a child of another class"
      ],
      "metadata": {
        "id": "SlePyB0DYPy8"
      }
    },
    {
      "cell_type": "markdown",
      "source": [
        "this can be checked by the \" issubclass\" or \"isinstance \" method"
      ],
      "metadata": {
        "id": "2mhkeZMcYXNP"
      }
    },
    {
      "cell_type": "code",
      "source": [
        "class Animal:\n",
        "    pass\n",
        "\n",
        "class Dog(Animal):\n",
        "    pass\n",
        "\n",
        "print(issubclass(Dog, Animal))"
      ],
      "metadata": {
        "id": "Kxwj4FIszq8z",
        "colab": {
          "base_uri": "https://localhost:8080/"
        },
        "outputId": "8432684e-631c-4724-b918-09cb16c20038"
      },
      "execution_count": null,
      "outputs": [
        {
          "output_type": "stream",
          "name": "stdout",
          "text": [
            "True\n"
          ]
        }
      ]
    },
    {
      "cell_type": "code",
      "source": [
        "class Animal:\n",
        "    pass\n",
        "\n",
        "class Dog(Animal):\n",
        "    pass\n",
        "\n",
        "my_dog = Dog()\n",
        "\n",
        "print(isinstance(my_dog, Animal))"
      ],
      "metadata": {
        "colab": {
          "base_uri": "https://localhost:8080/"
        },
        "id": "r7BwT7e8YjyE",
        "outputId": "4655c48b-c3e9-47d5-948b-3ca09c7d7a6b"
      },
      "execution_count": null,
      "outputs": [
        {
          "output_type": "stream",
          "name": "stdout",
          "text": [
            "True\n"
          ]
        }
      ]
    },
    {
      "cell_type": "markdown",
      "source": [
        "# How does inheritance work in python? Explain all types of inheritance with an example"
      ],
      "metadata": {
        "id": "vI0H27TFYu_9"
      }
    },
    {
      "cell_type": "markdown",
      "source": [
        "Inheritance allows to use all the properties and behaviour of one pre defined class to  the other class.\n",
        "Types of Inheritance in Python:\n",
        "\n",
        "* **Single Inheritance**:in single inheritance, a child class inherits from a single parent class.\n",
        "* **Multiple Inheritance**:In multiple inheritance, a child class inherits from multiple parent classes.\n",
        "* **Multilevel Inheritance**:In multilevel inheritance, a child class inherits from a parent class that itself inherits from another parent class.\n",
        "* **Hierarchical Inheritance**:In hierarchical inheritance, multiple child classes inherit from a single parent class.\n",
        "* **Hybrid Inheritance**:In hybrid inheritance, a combination of multiple inheritance and multilevel inheritance is used."
      ],
      "metadata": {
        "id": "Lz7Bsa3bY2Wu"
      }
    },
    {
      "cell_type": "markdown",
      "source": [
        "# What is encapsulation? Explain it with an example"
      ],
      "metadata": {
        "id": "dKRzLR_QZ7XP"
      }
    },
    {
      "cell_type": "markdown",
      "source": [
        "Encapsulation is the concept of bundling data and methods that operate on that data within a single unit, called a class"
      ],
      "metadata": {
        "id": "PixqkpFyaDqd"
      }
    },
    {
      "cell_type": "code",
      "source": [
        "class BankAccount:\n",
        "    def __init__(self, balance=0):\n",
        "        self.__balance = balance\n",
        "\n",
        "    def deposit(self, amount):\n",
        "        self.__balance += amount\n",
        "\n",
        "    def get_balance(self):\n",
        "        return self.__balance"
      ],
      "metadata": {
        "id": "_fQLGgmsYquh"
      },
      "execution_count": null,
      "outputs": []
    },
    {
      "cell_type": "markdown",
      "source": [
        "# What is polymorphism?  Explain it with an example."
      ],
      "metadata": {
        "id": "8-J0AaEoaNY-"
      }
    },
    {
      "cell_type": "markdown",
      "source": [
        "Polymorphism is the concept of having multiple forms of a single entity. This can be achieved through method overriding or method overloading."
      ],
      "metadata": {
        "id": "8nR1DnLYagHd"
      }
    },
    {
      "cell_type": "markdown",
      "source": [
        "##Question 1. 2. Which of the following identifier names are invalid and why?    \n",
        "\n",
        "a) Serial_no.\n",
        "\n",
        "b) 1st_Room\n",
        "\n",
        "c) Hundred$\n",
        "\n",
        "d) Total_Marks\n",
        "\n",
        "e) total-Marks\n",
        "\n",
        "f) Total Marks\n",
        "\n",
        "g) True\n",
        "\n",
        " h) _Percentag"
      ],
      "metadata": {
        "id": "4EMVvY0aalGS"
      }
    },
    {
      "cell_type": "markdown",
      "source": [
        "b, e, f, g are invalid\n",
        "as they either with starts with numeric character or contains any special characterewhich is not allowed in identifier name"
      ],
      "metadata": {
        "id": "RNLbP6W0atUu"
      }
    },
    {
      "cell_type": "markdown",
      "source": [
        "#Question 1.3.\n",
        "\n",
        "name = [\"Mohan\", \"dash\", \"karam\", \"chandra\",\"gandhi\",\"Bapu\"]\n",
        "\n",
        "do the following operations in this list;\n",
        "\n",
        "\n"
      ],
      "metadata": {
        "id": "K0NSR_B4bT-m"
      }
    },
    {
      "cell_type": "markdown",
      "source": [
        "** a) add an element \"freedom_fighter\" in this list at the 0th index.**"
      ],
      "metadata": {
        "id": "7OUWWzCybfBJ"
      }
    },
    {
      "cell_type": "code",
      "source": [
        "\n",
        "name = [\"Mohan\", \"dash\", \"karam\", \"chandra\",\"gandhi\",\"Bapu\"]\n",
        "name.insert(0,\"freedom_fighter\")\n",
        "print(name)"
      ],
      "metadata": {
        "colab": {
          "base_uri": "https://localhost:8080/"
        },
        "id": "JklCsYcUaKfv",
        "outputId": "53a0d862-f69d-4be7-b63b-78ef45e1c24f"
      },
      "execution_count": null,
      "outputs": [
        {
          "output_type": "stream",
          "name": "stdout",
          "text": [
            "['freedom_fighter', 'Mohan', 'dash', 'karam', 'chandra', 'gandhi', 'Bapu']\n"
          ]
        }
      ]
    },
    {
      "cell_type": "markdown",
      "source": [
        "b) find the output of the following ,and explain how?\n",
        "\n",
        "\n",
        "name = [“freedomFighter”,\"Bapuji\",\"MOhan\" \"dash\", \"karam\",\n",
        "\"chandra\",\"gandhi\"]\n",
        "\n",
        "length1=len((name[-len(name)+1:-1:2]))\n",
        "\n",
        "length2=len((name[-len(name)+1:-1]))\n",
        "\n",
        "print(length1+length2)"
      ],
      "metadata": {
        "id": "Y1Ax1RMmb38B"
      }
    },
    {
      "cell_type": "code",
      "source": [
        "name = [\"freedomFighter\",\"Bapuji\",\"MOhan\" \"dash\", \"karam\",\n",
        "\"chandra\",\"gandhi\"]\n",
        "\n",
        "length1=len((name[-len(name)+1:-1:2]))\n",
        "\n",
        "length2=len((name[-len(name)+1:-1]))\n",
        "\n",
        "print(length1+length2)"
      ],
      "metadata": {
        "colab": {
          "base_uri": "https://localhost:8080/"
        },
        "id": "iDe1KN1pb1wL",
        "outputId": "f0595a5b-c242-4788-c011-2e2b6adb417a"
      },
      "execution_count": null,
      "outputs": [
        {
          "output_type": "stream",
          "name": "stdout",
          "text": [
            "6\n"
          ]
        }
      ]
    },
    {
      "cell_type": "markdown",
      "source": [
        "c) add two more elements in the name [\"NetaJi\",\"Bose\"] at the end of the list."
      ],
      "metadata": {
        "id": "oE4aS6TSceWM"
      }
    },
    {
      "cell_type": "code",
      "source": [
        "name = [\"Mohan\", \"dash\", \"karam\", \"chandra\",\"gandhi\",\"Bapu\"]\n",
        "name.append(\"NetaJi\")\n",
        "name.append(\"Bose\")\n",
        "print(name)"
      ],
      "metadata": {
        "colab": {
          "base_uri": "https://localhost:8080/"
        },
        "id": "HQQ-4LdfcQaU",
        "outputId": "0985df3c-bb67-4872-8590-62465ef9da7b"
      },
      "execution_count": null,
      "outputs": [
        {
          "output_type": "stream",
          "name": "stdout",
          "text": [
            "['Mohan', 'dash', 'karam', 'chandra', 'gandhi', 'Bapu', 'NetaJi', 'Bose']\n"
          ]
        }
      ]
    },
    {
      "cell_type": "markdown",
      "source": [
        "d) what will be the value of temp:\n",
        "\n",
        "name = [\"Bapuji\", \"dash\", \"karam\", \"chandra\",\"gandi\",\"Mohan\"]\n",
        "\n",
        "temp=name[-1]\n",
        "\n",
        "name[-1]=name[0]\n",
        "\n",
        "name[0]=temp\n",
        "\n",
        "print(name)"
      ],
      "metadata": {
        "id": "GSSmGYvYjXQc"
      }
    },
    {
      "cell_type": "code",
      "source": [
        "name = [\"Bapuji\", \"dash\", \"karam\", \"chandra\",\"gandi\",\"Mohan\"]\n",
        "\n",
        "temp=name[-1]\n",
        "\n",
        "name[-1]=name[0]\n",
        "\n",
        "name[0]=temp\n",
        "\n",
        "print(name)"
      ],
      "metadata": {
        "colab": {
          "base_uri": "https://localhost:8080/"
        },
        "id": "_D2xRqOejGTI",
        "outputId": "3669e2ff-01f1-4d4e-cc59-01c65909f6b9"
      },
      "execution_count": null,
      "outputs": [
        {
          "output_type": "stream",
          "name": "stdout",
          "text": [
            "['Mohan', 'dash', 'karam', 'chandra', 'gandi', 'Bapuji']\n"
          ]
        }
      ]
    },
    {
      "cell_type": "markdown",
      "source": [
        "Question 1.4.Find the output of the following.\n",
        "\n",
        "animal = ['Human','cat','mat','cat','rat','Human', 'Lion']\n",
        "\n",
        "print(animal.count('Human'))\n",
        "\n",
        "print(animal.index('rat'))\n",
        "\n",
        "print(len(animal))"
      ],
      "metadata": {
        "id": "tteEI2wZkGan"
      }
    },
    {
      "cell_type": "code",
      "source": [
        "animal = ['Human','cat','mat','cat','rat','Human', 'Lion']\n",
        "\n",
        "print(animal.count('Human'))\n",
        "\n",
        "print(animal.index('rat'))\n",
        "\n",
        "print(len(animal))"
      ],
      "metadata": {
        "colab": {
          "base_uri": "https://localhost:8080/"
        },
        "id": "GNQ4TK-Bj3ir",
        "outputId": "f674c2e7-80b6-458b-8eac-76afd6a7422b"
      },
      "execution_count": null,
      "outputs": [
        {
          "output_type": "stream",
          "name": "stdout",
          "text": [
            "2\n",
            "4\n",
            "7\n"
          ]
        }
      ]
    },
    {
      "cell_type": "markdown",
      "source": [
        "# Question 1.5. tuple1=(10,20,\"Apple\",3.4,'a',[\"master\",\"ji\"],(\"sita\",\"geeta\",22),[{\"roll_no\"N1},\n",
        "{\"name\"N\"Navneet\"}])\n",
        "\n",
        "\n",
        "a)Print(len(tuple1))"
      ],
      "metadata": {
        "id": "c73pLCTOl6xs"
      }
    },
    {
      "cell_type": "code",
      "source": [
        "tuple1=(10,20,\"Apple\",3.4,'a',[\"master\",\"ji\"],(\"sita\",\"geeta\",22),[{\"roll_no\":1},\n",
        "{\"name\":\"Navneet\"}])\n",
        "\n",
        "\n",
        "print(len(tuple1))"
      ],
      "metadata": {
        "colab": {
          "base_uri": "https://localhost:8080/"
        },
        "id": "iet0vNMRkcJB",
        "outputId": "5e309dfb-840a-4630-9a35-8110f6bde9d0"
      },
      "execution_count": null,
      "outputs": [
        {
          "output_type": "stream",
          "name": "stdout",
          "text": [
            "8\n"
          ]
        }
      ]
    },
    {
      "cell_type": "markdown",
      "source": [
        "b)print(tuple1[-1][-1][\"name\"])"
      ],
      "metadata": {
        "id": "I6jQvmTNmjeT"
      }
    },
    {
      "cell_type": "code",
      "source": [
        "print(tuple1[-1][-1][\"name\"])"
      ],
      "metadata": {
        "colab": {
          "base_uri": "https://localhost:8080/"
        },
        "id": "ce8yPoItmMI2",
        "outputId": "6d3c83df-0f3a-4b13-83f0-a02862d40416"
      },
      "execution_count": null,
      "outputs": [
        {
          "output_type": "stream",
          "name": "stdout",
          "text": [
            "Navneet\n"
          ]
        }
      ]
    },
    {
      "cell_type": "markdown",
      "source": [
        "c)fetch the value of roll_no from this tuple."
      ],
      "metadata": {
        "id": "xx4OEMZsmtkj"
      }
    },
    {
      "cell_type": "code",
      "source": [
        "print(tuple1[-1][0])"
      ],
      "metadata": {
        "colab": {
          "base_uri": "https://localhost:8080/"
        },
        "id": "QDHcSaZ-mptu",
        "outputId": "a79fbf57-a3ae-42d3-e94a-5c0010b809bd"
      },
      "execution_count": null,
      "outputs": [
        {
          "output_type": "stream",
          "name": "stdout",
          "text": [
            "{'roll_no': 1}\n"
          ]
        }
      ]
    },
    {
      "cell_type": "markdown",
      "source": [
        "d)print(tuple1[-3][1])"
      ],
      "metadata": {
        "id": "_q_5OK7enRpT"
      }
    },
    {
      "cell_type": "code",
      "source": [
        "print(tuple1[-3][1])"
      ],
      "metadata": {
        "colab": {
          "base_uri": "https://localhost:8080/"
        },
        "id": "HwhVoZZqm01Z",
        "outputId": "a0216143-a1b3-4d49-d0fa-0fefecad2294"
      },
      "execution_count": null,
      "outputs": [
        {
          "output_type": "stream",
          "name": "stdout",
          "text": [
            "ji\n"
          ]
        }
      ]
    },
    {
      "cell_type": "markdown",
      "source": [
        "e)fetch the element \"22\" from this tuple."
      ],
      "metadata": {
        "id": "wspUgJ3Yndep"
      }
    },
    {
      "cell_type": "code",
      "source": [
        "tuple1[-2][2]"
      ],
      "metadata": {
        "colab": {
          "base_uri": "https://localhost:8080/"
        },
        "id": "pAb07e6snbFD",
        "outputId": "55078762-b10b-464f-97d8-2d5a8df733e2"
      },
      "execution_count": null,
      "outputs": [
        {
          "output_type": "execute_result",
          "data": {
            "text/plain": [
              "22"
            ]
          },
          "metadata": {},
          "execution_count": 23
        }
      ]
    },
    {
      "cell_type": "markdown",
      "source": [
        "#1.6. Write a program to display the appropriate message as per the color of signal(RED-Stop/Yellow-Stay/Green-Go) at the road crossing."
      ],
      "metadata": {
        "id": "xDeoB6POvW4B"
      }
    },
    {
      "cell_type": "code",
      "source": [
        "colour=input(\"enter a colour\")\n",
        "if colour == \"red\":\n",
        "  print(\"stop\")\n",
        "if colour == \"yellow\":\n",
        "  print(\"Stay\")\n",
        "if colour==\"green\":\n",
        "  print(\"go\")"
      ],
      "metadata": {
        "id": "v3eMfSsNnq9J",
        "colab": {
          "base_uri": "https://localhost:8080/"
        },
        "outputId": "95fd3e5e-a703-4b9e-b946-16ad205477aa"
      },
      "execution_count": null,
      "outputs": [
        {
          "output_type": "stream",
          "name": "stdout",
          "text": [
            "enter a colourred\n",
            "stop\n"
          ]
        }
      ]
    },
    {
      "cell_type": "markdown",
      "source": [
        "##1.7. Write a program to create a simple calculator performing only four basic operations(+,-,/,*) ."
      ],
      "metadata": {
        "id": "CZ-ZzSnGwJ49"
      }
    },
    {
      "cell_type": "code",
      "source": [
        "def add(num1, num2):\n",
        "    return num1 + num2\n",
        "\n",
        "# Function to subtract two numbers\n",
        "def subtract(num1, num2):\n",
        "    return num1 - num2\n",
        "\n",
        "# Function to multiply two numbers\n",
        "def multiply(num1, num2):\n",
        "    return num1 * num2\n",
        "\n",
        "# Function to divide two numbers\n",
        "def divide(num1, num2):\n",
        "    if num2 == 0:\n",
        "        return \"Error! Division by zero.\"\n",
        "    else:\n",
        "        return num1 / num2"
      ],
      "metadata": {
        "id": "d8ehzC86wErt"
      },
      "execution_count": null,
      "outputs": []
    },
    {
      "cell_type": "markdown",
      "source": [
        "# 1.8. Write a program to find the larger of the three pre-specified numbers using ternary operators"
      ],
      "metadata": {
        "id": "shV694-wwgBd"
      }
    },
    {
      "cell_type": "code",
      "source": [
        "a=int(input(\"enter a number\"))\n",
        "b=int(input(\"enter a number\"))\n",
        "c=int(input(\"enter a number\"))\n",
        "largest_number= num if(a > b and a > c) else (b if b > c else c)\n",
        "print(largest_number)"
      ],
      "metadata": {
        "colab": {
          "base_uri": "https://localhost:8080/"
        },
        "id": "CaGvLZRLwd2Q",
        "outputId": "a726ab7b-7f39-4e87-c9a6-4cf9005527c8"
      },
      "execution_count": null,
      "outputs": [
        {
          "output_type": "stream",
          "name": "stdout",
          "text": [
            "enter a number15\n",
            "enter a number64\n",
            "enter a number42\n",
            "64\n"
          ]
        }
      ]
    },
    {
      "cell_type": "markdown",
      "source": [
        "# 1.9.  Write a program to find the factors of a whole number  using a while loop."
      ],
      "metadata": {
        "id": "piOirVufxUPP"
      }
    },
    {
      "cell_type": "code",
      "source": [
        "n=int(input(\"enter a number\"))\n",
        "i=1\n",
        "while i<=n:\n",
        "    if n % i == 0:\n",
        "      print(i)\n",
        "    i+=1"
      ],
      "metadata": {
        "colab": {
          "base_uri": "https://localhost:8080/"
        },
        "id": "-JxSjRjpxBem",
        "outputId": "79671fe0-6e1c-4bcd-8010-1f653a536729"
      },
      "execution_count": null,
      "outputs": [
        {
          "output_type": "stream",
          "name": "stdout",
          "text": [
            "enter a number20\n",
            "1\n",
            "2\n",
            "4\n",
            "5\n",
            "10\n",
            "20\n"
          ]
        }
      ]
    },
    {
      "cell_type": "markdown",
      "source": [
        "#1.10.  Write a program to find the sum of all the positive numbers entered by the user. As soon as the user enters a negative number, stop taking in any further input from the user and display the sum"
      ],
      "metadata": {
        "id": "zo8RN7wKyhBp"
      }
    },
    {
      "cell_type": "code",
      "source": [
        "\n",
        "sum_positive = 0\n",
        "while True:\n",
        "    num = int(input(\"Enter a number : \"))\n",
        "    if num < 0:\n",
        "        break\n",
        "    sum_positive += num\n",
        "print(f\"The sum of all positive numbers entered is: {sum_positive}\")\n",
        "\n"
      ],
      "metadata": {
        "colab": {
          "base_uri": "https://localhost:8080/"
        },
        "id": "UciJJ2M7x5TY",
        "outputId": "86ac3785-e0ee-4e95-b7c7-41a38d007728"
      },
      "execution_count": null,
      "outputs": [
        {
          "output_type": "stream",
          "name": "stdout",
          "text": [
            "Enter a number : 15\n",
            "Enter a number : 25\n",
            "Enter a number : 15\n",
            "Enter a number : 61\n",
            "Enter a number : -15\n",
            "The sum of all positive numbers entered is: 116\n"
          ]
        }
      ]
    },
    {
      "cell_type": "markdown",
      "source": [
        "# .11.   Write a program to find prime numbers between 2 to 100 using nested for loops."
      ],
      "metadata": {
        "id": "2JbGXpHmzmg1"
      }
    },
    {
      "cell_type": "code",
      "source": [
        "prime_numbers = []\n",
        "\n",
        "for num in range(2, 101):\n",
        "    is_prime = True\n",
        "    for i in range(2, int(num ** 0.5) + 1):\n",
        "        if num % i == 0:\n",
        "            is_prime = False\n",
        "            break\n",
        "    if is_prime:\n",
        "        prime_numbers.append(num)\n",
        "print(\"Prime numbers between 2 and 100 are:\", prime_numbers)\n"
      ],
      "metadata": {
        "colab": {
          "base_uri": "https://localhost:8080/"
        },
        "id": "8yTIka78zdGh",
        "outputId": "1e7d4caa-07bb-4f77-b061-79497c86bbe8"
      },
      "execution_count": null,
      "outputs": [
        {
          "output_type": "stream",
          "name": "stdout",
          "text": [
            "Prime numbers between 2 and 100 are: [2, 3, 5, 7, 11, 13, 17, 19, 23, 29, 31, 37, 41, 43, 47, 53, 59, 61, 67, 71, 73, 79, 83, 89, 97]\n"
          ]
        }
      ]
    },
    {
      "cell_type": "markdown",
      "source": [
        "#1.12.   Write the  programs for the following\n",
        " * Accept the marks of the student in five major subjects and disTlay the sameS\n",
        " * Calculate the sum of the marks of all subjects.Divide the total marks by number of subjects (i.e. 5), calculate\n",
        "percentage = total marks/5 and disTlay the TercentageS\n",
        " * Find the grade of the student as Ter the following criteria . Hint: Use Match & case for this."
      ],
      "metadata": {
        "id": "ghunlMMb13ZL"
      }
    },
    {
      "cell_type": "code",
      "source": [
        "#Accept the marks of the student in five major subjects and display the same.\n",
        "subjects = []\n",
        "print(\"Enter marks for 5 subjects: \")\n",
        "for i in range(5):\n",
        "  mark = int(input(f\"Subject {i+1}: \"))\n",
        "  subjects.append(mark)\n",
        "print(\"Marks entered: \", subjects)\n",
        "\n",
        "#Calculate the sum of the marks of all subjects. Divide the total marks by number of subjects (i.e. 5), calculate percentage = total marks/5 and display the percentage.\n",
        "total_marks = sum(subjects)\n",
        "percentage = total_marks / 5\n",
        "print(\"Total Marks:\", total_marks)\n",
        "print(\"Percentage:\", percentage)\n",
        "\n",
        "#Find the grade of the student as per the following criteria. Hint: Use Match & case for this.:\n",
        "match percentage:\n",
        "  case percentage if percentage > 85:\n",
        "    grade = \"A\"\n",
        "  case percentage if percentage < 85 and percentage >= 75:\n",
        "    grade = \"B\"\n",
        "  case percentage if percentage < 75 and percentage >= 50:\n",
        "    grade = \"C\"\n",
        "  case percentage if percentage > 30 and percentage <= 50:\n",
        "    grade = \"D\"\n",
        "  case _:\n",
        "    grade = \"Reappear\"\n",
        "print(\"Grade:\", grade)"
      ],
      "metadata": {
        "id": "vJ9RFcEl0yZs",
        "colab": {
          "base_uri": "https://localhost:8080/"
        },
        "outputId": "ac074a5f-c91c-4cfd-e20a-62ecc0ddcd75"
      },
      "execution_count": null,
      "outputs": [
        {
          "output_type": "stream",
          "name": "stdout",
          "text": [
            "Enter marks for 5 subjects: \n",
            "Subject 1: 90\n",
            "Subject 2: 85\n",
            "Subject 3: 82\n",
            "Subject 4: 93\n",
            "Subject 5: 81\n",
            "Marks entered:  [90, 85, 82, 93, 81]\n",
            "Total Marks: 431\n",
            "Percentage: 86.2\n",
            "Grade: A\n"
          ]
        }
      ]
    },
    {
      "cell_type": "markdown",
      "source": [
        "#1.13. Write a program for VIBGYOR Spectrum based on their Wavelength using Wavelength Range:"
      ],
      "metadata": {
        "id": "OpvxmKIk2rq4"
      }
    },
    {
      "cell_type": "code",
      "source": [
        "wavelength=float(input(\"enter wavelength\"))\n",
        "if 400 < wavelength <440:\n",
        "  print(\"Violet\")\n",
        "if 440 < wavelength <460:\n",
        "  print(\"Indigo\")\n",
        "if 460 < wavelength <500:\n",
        "  print(\"Blue\")\n",
        "if 500 < wavelength <570:\n",
        "  print(\"Green\")\n",
        "if 570 < wavelength <590:\n",
        "  print(\"Yellow\")\n",
        "if 590 < wavelength <620:\n",
        "  print(\"Orange\")\n",
        "if 620 < wavelength <720:\n",
        "  print(\"Red\")\n",
        "else:\n",
        "  print(\"invalid value\")"
      ],
      "metadata": {
        "colab": {
          "base_uri": "https://localhost:8080/"
        },
        "id": "KMa1BYkw2zgJ",
        "outputId": "bf521a92-d85b-4461-bbcd-2e0b366e255b"
      },
      "execution_count": null,
      "outputs": [
        {
          "output_type": "stream",
          "name": "stdout",
          "text": [
            "enter wavelength654\n",
            "Red\n"
          ]
        }
      ]
    },
    {
      "cell_type": "markdown",
      "source": [
        "1.14.Consider the gravitational interactions between the Earth, Moon, and Sun in our solar system.\n",
        "\n",
        "Given:\n",
        "\n",
        "mass_earth = 5.972e24  # Mass of Earth in kilograms\n",
        "\n",
        "mass_moon = 7.34767309e22  # Mass of Moon in kilograms\n",
        "\n",
        "mass_sun = \u0019.989e30  # Mass of Sun in kilograms\n",
        "\n",
        "\n",
        "distan0e_earth_sun = \u0019.496e\u0019\u0019  # Average distan0e between Earth and Sun in meters\n",
        "\n",
        "distan0e_moon_earth = 3.844e8  # Average distan0e between Moon and Earth in meters\n",
        "\n",
        "\n",
        "Tasks\u0002\n",
        "/ Cal0ulate the gravitational for0e between the Earth and the Sun\u0018\n",
        "/ Cal0ulate the gravitational for0e between the Moon and the Earth\u0018\n",
        "/ Compare the 0al0ulated for0es to determine whi0h gravitational for0e is stronger\u0018\n",
        "/ Explain whi0h 0elestial body (Earth or Moon\u0003 is more attra0ted to the other based on the 0omparison"
      ],
      "metadata": {
        "id": "kBB7zHSp5Tgz"
      }
    },
    {
      "cell_type": "code",
      "source": [
        "mass_earth = 5.972e24  # Mass of Earth in kilograms\n",
        "\n",
        "mass_moon = 7.34767309e22  # Mass of Moon in kilograms\n",
        "\n",
        "mass_sun = 1.989e30  # Mass of Sun in kilograms\n",
        "\n",
        "\n",
        "distance_earth_sun = 1.496e11  # Average distan0e between Earth and Sun in meters\n",
        "\n",
        "distance_moon_earth = 3.844e8  # Average distan0e between Moon and Earth in meters\n",
        "G = 6.67430e-11\n",
        "# Gravitational force between Earth and Sun\n",
        "force_earth_sun = G * mass_earth * mass_sun / (distance_earth_sun ** 2)\n",
        "print(f\"Gravitational force between Earth and Sun: {force_earth_sun} Newtons\")\n",
        "\n",
        "# Gravitational force between Moon and Earth\n",
        "force_moon_earth = G * mass_moon * mass_earth / (distance_moon_earth ** 2)\n",
        "print(f\"Gravitational force between Moon and Earth: {force_moon_earth} Newtons\")\n",
        "\n",
        "if force_earth_sun > force_moon_earth:\n",
        "    stronger_force = \"Earth and Sun\"\n",
        "elif force_moon_earth > force_earth_sun:\n",
        "    stronger_force = \"Moon and Earth\"\n",
        "else:\n",
        "    stronger_force = \"Both forces are equal\"\n",
        "\n",
        "print(f\"The stronger gravitational force is between {stronger_force}.\")\n"
      ],
      "metadata": {
        "colab": {
          "base_uri": "https://localhost:8080/"
        },
        "id": "oEaMUKa73xOT",
        "outputId": "19444670-ce55-4dec-c752-cfdb0c95288e"
      },
      "execution_count": null,
      "outputs": [
        {
          "output_type": "stream",
          "name": "stdout",
          "text": [
            "Gravitational force between Earth and Sun: 3.5423960813684973e+22 Newtons\n",
            "Gravitational force between Moon and Earth: 1.982022545652681e+20 Newtons\n",
            "The stronger gravitational force is between Earth and Sun.\n"
          ]
        }
      ]
    },
    {
      "cell_type": "markdown",
      "source": [
        "#2. Design and implement a Python program for managing student information using object-oriented principles. Create a class called `Student` with encapsulated attributes for name, age, and roll number. Implement getter and setter methods for these attributes. Additionally, provide methods to display student information and update student details.\n",
        "\n",
        "\n",
        "Tasks\n",
        "*  Define the `Student` class with encapsulated attributes\n",
        "* Implement getter and setter methods for the attributes\n",
        "*  Write methods to display student information and update details\n",
        "* Create instances of the `Student` class and test the implemented functionality"
      ],
      "metadata": {
        "id": "wlM7cnR49YkW"
      }
    },
    {
      "cell_type": "code",
      "source": [
        "class student:\n",
        "  def __init__(self,name,age,roll_number):\n",
        "    self.name=name\n",
        "    self.age=age\n",
        "    self.roll_number=roll_number\n",
        "  def get_name(self):\n",
        "    return self.name\n",
        "  def get_age(self):\n",
        "    return self.age\n",
        "  def get_roll_number(self):\n",
        "    return self.roll_number\n",
        "  def set_name(self):\n",
        "     self.name= name\n",
        "  def set_age(self):\n",
        "    self.age= age\n",
        "  def get_roll_number(self):\n",
        "    self.roll_number=roll_number\n",
        "  def student_info(self):\n",
        "    print(\"student name:\",self.name)\n",
        "    print(\"student's age\",self.age)\n",
        "    print(\"student's roll number\",self.roll_number)\n",
        "  def update_details(self, name=None, age=None, roll_number=None):\n",
        "        if name:\n",
        "            self._name = name\n",
        "        if age:\n",
        "            self._age = age\n",
        "        if roll_number:\n",
        "            self._roll_number = roll_number\n",
        "student1 = student(\"Alice\", 20, \"001\")\n",
        "student2 = student(\"Bob\", 21, \"002\")\n",
        "student1.student_info()\n"
      ],
      "metadata": {
        "id": "UiSmS7ud65QT",
        "colab": {
          "base_uri": "https://localhost:8080/"
        },
        "outputId": "b9d16882-cabf-45ff-f6c3-68a8c1a16f5d"
      },
      "execution_count": null,
      "outputs": [
        {
          "output_type": "stream",
          "name": "stdout",
          "text": [
            "student name: Alice\n",
            "student's age 20\n",
            "student's roll number 001\n"
          ]
        }
      ]
    },
    {
      "cell_type": "markdown",
      "source": [
        "#3.Develop a Python program for managing library resources efficiently. Design a class named `LibraryBoo\u000f` with attributes li\u000fe boo\u000f name, author, and availability status. Implement methods for borrowing and returning boo\u000fs while ensuring proper encapsulation of attributes.\n",
        "\n",
        "\n",
        "Tasks\u000e\n",
        "*  1. Create the `LibraryBook` class with encapsulated attributes\u0016\n",
        "*  2. Implement methods for borrowing and returning books\u0016\n",
        "* 3. Ensure proper encapsulation to protect book details\u0016\n",
        "*  4. Test the borrowing and returning functionality with sample data."
      ],
      "metadata": {
        "id": "Vczj4nT99r0L"
      }
    },
    {
      "cell_type": "code",
      "source": [
        "class Librarybook():\n",
        "  def __init__(self,name,author):\n",
        "    self.name= name\n",
        "    self.author=author\n",
        "    self.avaibility_status=True\n",
        "  def get_book_name(self):\n",
        "        return self._book_name\n",
        "\n",
        "  def get_author(self):\n",
        "        return self._author\n",
        "\n",
        "  def is_available(self):\n",
        "        return self.availability_status\n",
        "  def borrow_book(self):\n",
        "    if self.avaibility_status:\n",
        "      self.avaibility_status=False\n",
        "      print(\"book\",self.name,\"is borrowed \")\n",
        "    else:\n",
        "      print(\"sorry, book is not available\")\n",
        "  def return_book(self):\n",
        "    if not self.avaibility_status:\n",
        "      self.avaibility_status=True\n",
        "      print(\"book\",self.name,\"by\",self.author,\"has been returned\")\n",
        "    else:\n",
        "      print(\"the book ia already available\")\n",
        "book1 = Librarybook(\"The Great Gatsby\", \"F. Scott Fitzgerald\")\n",
        "book2 = Librarybook(\"To Kill a Mockingbird\", \"Harper Lee\")\n",
        "book1.borrow_book()\n",
        "book2.borrow_book()\n",
        "\n",
        "book1.return_book()\n",
        "book2.return_book()"
      ],
      "metadata": {
        "id": "ySBijF-T92n4",
        "colab": {
          "base_uri": "https://localhost:8080/"
        },
        "outputId": "4df5aa5f-598f-4da9-b8c0-bade69894974"
      },
      "execution_count": null,
      "outputs": [
        {
          "output_type": "stream",
          "name": "stdout",
          "text": [
            "book The Great Gatsby is borrowed \n",
            "book To Kill a Mockingbird is borrowed \n",
            "book The Great Gatsby by F. Scott Fitzgerald has been returned\n",
            "book To Kill a Mockingbird by Harper Lee has been returned\n"
          ]
        }
      ]
    },
    {
      "cell_type": "markdown",
      "source": [
        "#4.Create a simple ban\u000fing system using object-oriented concepts in Python. Design classes representing different types of ban\u000f accounts such as savings and chec\u000fing. Implement methods for deposit, withdraw, and balance inquiry. Utilize inheritance to manage different account types efficiently.\n",
        "\n",
        "\n",
        "Tasks\n",
        "* 1. Define base class(es) for bank accounts with common attributes and methods\n",
        "* 2. Implement subclasses for specific account types (e.g., SavingsAccount, CheckingAccount)\n",
        "* 3. Provide methods for deposit, withdraw, and balance inquiry in each subclass\n",
        "* 4. Test the banking system by creating instances of different account types and performing transactions"
      ],
      "metadata": {
        "id": "4Lo_o9Ck0nA3"
      }
    },
    {
      "cell_type": "code",
      "source": [
        "class bankaccount:\n",
        "  def __init__(self,account_number,balance=0):\n",
        "    self.account_number= account_number\n",
        "    self.balance=balance\n",
        "\n",
        "  def deposit(self,amount):\n",
        "    if amount>0:\n",
        "      self.balance+=amount\n",
        "      print(f\"Deposited ${amount}. New balance is ${self.balance}.\")\n",
        "    else:\n",
        "      print(\"Deposit amount must be greater than zero.\")\n",
        "\n",
        "  def withdraw(self,amount):\n",
        "    if 0 < self.balance < amount:\n",
        "      self.balance-=amount\n",
        "      print(f\"Withdrew ${amount}. New balance is ${self.balance}.\")\n",
        "    else:\n",
        "      print(\"Withdrawal amount must be greater than zero and less than or equal to balance.\")\n",
        "\n",
        "  def inquiry(self):\n",
        "        print(f\"Account Number: {self.account_number}\")\n",
        "        print(f\"Current Balance: ${self.balance}\")\n",
        "\n",
        "\n",
        "class SavingsAccount(bankaccount):\n",
        "    def __init__(self, account_number, balance=0, interest_rate=0.01):\n",
        "        super().__init__(account_number, balance)\n",
        "        self._interest_rate = interest_rate\n",
        "\n",
        "    def add_interest(self):\n",
        "        interest = self.balance * self._interest_rate\n",
        "        self.balance += interest\n",
        "        print(f\"Interest added. New balance is ${self.balance}.\")\n",
        "\n",
        "class CheckingAccount(bankaccount):\n",
        "    def __init__(self, account_number, balance=0, overdraft_limit=100):\n",
        "        super().__init__(account_number, balance)\n",
        "        self._overdraft_limit = overdraft_limit\n",
        "\n",
        "    def withdraw(self, amount):\n",
        "        if 0 < amount <= self.balance + self._overdraft_limit:\n",
        "            self.balance -= amount\n",
        "            print(f\"Withdrew ${amount}. New balance is ${self.balance}.\")\n",
        "        else:\n",
        "            print(\"Withdrawal amount must be greater than zero and within overdraft limit.\")\n",
        "\n",
        "savings_account = SavingsAccount(\"SAV-001\", 1000, 0.02)\n",
        "checking_account = CheckingAccount(\"CHK-001\", 500, 200)\n",
        "\n",
        "savings_account.deposit(500)\n",
        "savings_account.add_interest()\n",
        "savings_account.withdraw(200)\n",
        "savings_account.inquiry()\n",
        "\n",
        "checking_account.deposit(300)\n",
        "checking_account.withdraw(700)\n",
        "checking_account.inquiry()"
      ],
      "metadata": {
        "colab": {
          "base_uri": "https://localhost:8080/"
        },
        "id": "kTrx2lml04uZ",
        "outputId": "b266a5ea-9d05-48bb-e0d4-9f96dcbfaf63"
      },
      "execution_count": null,
      "outputs": [
        {
          "output_type": "stream",
          "name": "stdout",
          "text": [
            "Deposited $500. New balance is $1500.\n",
            "Interest added. New balance is $1530.0.\n",
            "Withdrawal amount must be greater than zero and less than or equal to balance.\n",
            "Account Number: SAV-001\n",
            "Current Balance: $1530.0\n",
            "Deposited $300. New balance is $800.\n",
            "Withdrew $700. New balance is $100.\n",
            "Account Number: CHK-001\n",
            "Current Balance: $100\n"
          ]
        }
      ]
    },
    {
      "cell_type": "markdown",
      "source": [
        "#5.Write a Python program that models different animals and their sounds. Design a base class called `Animal` with a method `ma\u000fe_sound()`. Create subclasses li\u000fe `Dog` and `Cat` that override the `ma\u000fe_sound()` method to produce appropriate sounds.\n",
        "\n",
        "\n",
        "Tasks\u000e\n",
        "* 1. Define the `Animal` class with a method `make_sound()`\u0016\n",
        "* 2. Create subclasses `Dog` and `Cat` that override the `make_sound()` method\u0016\n",
        "* 3. Implement the sound generation logic for each subclass\u0016\n",
        "* 4. Test the program by creating instances of `Dog` and `Cat` and calling the `make_sound()` method."
      ],
      "metadata": {
        "id": "e_BgNfLx95qK"
      }
    },
    {
      "cell_type": "code",
      "source": [
        "class Animal():\n",
        "  def make_sound(self):\n",
        "    pass\n",
        "class Dog(Animal):\n",
        "  def make_sound(self):\n",
        "        return \"Woof!\"\n",
        "\n",
        "class Cat(Animal):\n",
        "    def make_sound(self):\n",
        "        return \"Meow!\"\n",
        "\n",
        "dog = Dog()\n",
        "cat = Cat()\n",
        "print(\"Dog makes sound:\", dog.make_sound())\n",
        "print(\"Cat makes sound:\", cat.make_sound())"
      ],
      "metadata": {
        "colab": {
          "base_uri": "https://localhost:8080/"
        },
        "id": "-Jagr4ke4e77",
        "outputId": "fc974689-2f6d-4524-d8f0-e1a2e8d4cee3"
      },
      "execution_count": null,
      "outputs": [
        {
          "output_type": "stream",
          "name": "stdout",
          "text": [
            "Dog makes sound: Woof!\n",
            "Cat makes sound: Meow!\n"
          ]
        }
      ]
    },
    {
      "cell_type": "markdown",
      "source": [
        "# 6.Write a code for Restaurant Management System Using OOPS\n",
        "*  Create a MenuItem 'lass that has attributes su'h as name, des'ription, pri'e, and 'category\n",
        "*  Implement methods to add a new menu item, update menu item information, and remove a menu item\n",
        "from the menu\n",
        "* Use en'apsulation to hide the menu item's unique identification number\n",
        "* Inherit from the MenuItem class to create a FoodItem class and a BeverageItem class, each with their own\n",
        "specific attributes and methods."
      ],
      "metadata": {
        "id": "I5QRpECW5VNZ"
      }
    },
    {
      "cell_type": "code",
      "source": [
        "class MenuItem:\n",
        "    def __init__(self, name, description, price, category):\n",
        "        self.name = name\n",
        "        self.description = description\n",
        "        self.price = price\n",
        "        self.category = category\n",
        "\n",
        "class Menu:\n",
        "    def __init__(self):\n",
        "        self.menu_items = []\n",
        "\n",
        "    def add_item(self, item):\n",
        "        self.menu_items.append(item)\n",
        "\n",
        "    def remove_item(self, item):\n",
        "        self.menu_items.remove(item)\n",
        "\n",
        "# FoodItem and BeverageItem classes inherit from MenuItem\n",
        "class FoodItem(MenuItem):\n",
        "    def __init__(self, name, description, price, category, cuisine):\n",
        "        super().__init__(name, description, price, category)\n",
        "        self.cuisine = cuisine\n",
        "\n",
        "class BeverageItem(MenuItem):\n",
        "    def __init__(self, name, description, price, category, alcohol_content):\n",
        "        super().__init__(name, description, price, category)\n",
        "        self.alcohol_content = alcohol_content\n",
        "\n",
        "# Example usage:\n",
        "menu = Menu()\n",
        "\n",
        "burger = FoodItem(\"Classic Burger\", \"A burger with cheese and lettuce\", 9.99, \"Main Course\", \"American\")\n",
        "coffee = BeverageItem(\"Espresso\", \"Strong black coffee\", 3.50, \"Beverage\", 0)\n",
        "\n",
        "menu.add_item(burger)\n",
        "menu.add_item(coffee)\n",
        "\n",
        "# Print the current menu\n",
        "print(\"Current Menu:\")\n",
        "for item in menu.menu_items:\n",
        "    print(f\"{item.name} - {item.price}\")\n",
        "\n",
        "# Remove an item from the menu\n",
        "menu.remove_item(coffee)\n",
        "\n",
        "# Print the updated menu\n",
        "print(\"\\nUpdated Menu:\")\n",
        "for item in menu.menu_items:\n",
        "    print(f\"{item.name} - {item.price}\")\n"
      ],
      "metadata": {
        "id": "whnHlFPz5Q8m",
        "colab": {
          "base_uri": "https://localhost:8080/"
        },
        "outputId": "4c20e6f1-4b0b-491b-afef-b8c17114bbfa"
      },
      "execution_count": null,
      "outputs": [
        {
          "output_type": "stream",
          "name": "stdout",
          "text": [
            "Current Menu:\n",
            "Classic Burger - 9.99\n",
            "Espresso - 3.5\n",
            "\n",
            "Updated Menu:\n",
            "Classic Burger - 9.99\n"
          ]
        }
      ]
    },
    {
      "cell_type": "markdown",
      "source": [
        "#Write a code for  Hotel Management System using OOPS\n",
        "* Create a Room 'lass that has attributes su'h as room number, room type, rate, and availability (private)\u0014\n",
        "* Implement methods to book a room, 'he'k in a guest, and 'he'k out a guest\u0014\n",
        "* Use en'apsulation to hide the room's unique identifi'ation number\u0014\n",
        "* Inherit from the Room 'lass to 'reate a SuiteRoom 'lass and a StandardRoom 'lass, ea'h with their own\n",
        "spe'ifi' attributes and methods."
      ],
      "metadata": {
        "id": "MW_jYV2ucmMH"
      }
    },
    {
      "cell_type": "code",
      "source": [
        "# Room class\n",
        "class Room:\n",
        "    def __init__(self, room_number, room_type, rate):\n",
        "        self.__room_number = room_number  # private attribute\n",
        "        self.room_type = room_type\n",
        "        self.rate = rate\n",
        "        self.availability = True\n",
        "        self.guest = None\n",
        "\n",
        "    def book_room(self, guest):\n",
        "        if self.availability:\n",
        "            self.availability = False\n",
        "            self.guest = guest\n",
        "            print(f\"Room {self.__room_number} booked for {guest}.\")\n",
        "        else:\n",
        "            print(\"Room is not available.\")\n",
        "\n",
        "    def check_in(self, guest):\n",
        "        if self.availability:\n",
        "            print(\"Room is not booked. Please book the room first.\")\n",
        "        else:\n",
        "            print(f\"Guest {guest} checked in to room {self.__room_number}.\")\n",
        "\n",
        "    def check_out(self):\n",
        "        if not self.availability:\n",
        "            self.availability = True\n",
        "            self.guest = None\n",
        "            print(f\"Room {self.__room_number} is now available.\")\n",
        "        else:\n",
        "            print(\"Room is already available.\")\n",
        "\n",
        "    def get_room_number(self):\n",
        "        return self.__room_number  # encapsulation\n",
        "\n",
        "# SuiteRoom class (inherits from Room)\n",
        "class SuiteRoom(Room):\n",
        "    def __init__(self, room_number, room_type, rate, extra_bed):\n",
        "        super().__init__(room_number, room_type, rate)\n",
        "        self.extra_bed = extra_bed\n",
        "\n",
        "    def book_suite(self, guest):\n",
        "        super().book_room(guest)\n",
        "        print(f\"Suite room {self.get_room_number()} booked with extra bed for {guest}.\")\n",
        "\n",
        "# StandardRoom class (inherits from Room)\n",
        "class StandardRoom(Room):\n",
        "    def __init__(self, room_number, room_type, rate, breakfast_included):\n",
        "        super().__init__(room_number, room_type, rate)\n",
        "        self.breakfast_included = breakfast_included\n",
        "\n",
        "    def book_standard(self, guest):\n",
        "        super().book_room(guest)\n",
        "        if self.breakfast_included:\n",
        "            print(f\"Standard room {self.get_room_number()} booked with breakfast for {guest}.\")\n",
        "        else:\n",
        "            print(f\"Standard room {self.get_room_number()} booked without breakfast for {guest}.\")\n",
        "\n",
        "# Example usage\n",
        "room1 = Room(101, \"Single\", 100)\n",
        "room2 = SuiteRoom(202, \"Suite\", 200, True)\n",
        "room3 = StandardRoom(303, \"Standard\", 150, True)\n",
        "\n",
        "room1.book_room(\"John\")\n",
        "room1.check_in(\"John\")\n",
        "room1.check_out()\n",
        "\n",
        "room2.book_suite(\"Jane\")\n",
        "room2.check_in(\"Jane\")\n",
        "room2.check_out()\n",
        "\n",
        "room3.book_standard(\"Bob\")\n",
        "room3.check_in(\"Bob\")\n",
        "room3.check_out()"
      ],
      "metadata": {
        "id": "knVMlcYScHvH",
        "colab": {
          "base_uri": "https://localhost:8080/"
        },
        "outputId": "a562a9f7-a0d3-4738-cd6a-507b1dd7ce73"
      },
      "execution_count": null,
      "outputs": [
        {
          "output_type": "stream",
          "name": "stdout",
          "text": [
            "Room 101 booked for John.\n",
            "Guest John checked in to room 101.\n",
            "Room 101 is now available.\n",
            "Room 202 booked for Jane.\n",
            "Suite room 202 booked with extra bed for Jane.\n",
            "Guest Jane checked in to room 202.\n",
            "Room 202 is now available.\n",
            "Room 303 booked for Bob.\n",
            "Standard room 303 booked with breakfast for Bob.\n",
            "Guest Bob checked in to room 303.\n",
            "Room 303 is now available.\n"
          ]
        }
      ]
    },
    {
      "cell_type": "markdown",
      "source": [
        "# 8.Write a code for  Fitness Club Management System using OOPS\n",
        "* Create a Member 'lass that has attributes su'h as name, age, membership type, and membership status\n",
        "(private)\n",
        "* Implement methods to register a new member, renew a membership, and 'an'el a membership\n",
        "* Use en'apsulation to hide the member's unique identifi'ation number\n",
        "* Inherit from the Member 'lass to 'reate a FamilyMember 'lass and an IndividualMember 'lass, ea'h with\n",
        "their own spe'ifi' attributes and methods"
      ],
      "metadata": {
        "id": "gPYMrm2Rdegl"
      }
    },
    {
      "cell_type": "code",
      "source": [
        "# Member class\n",
        "import uuid\n",
        "class Member:\n",
        "    def __init__(self, name, age, membership_type):\n",
        "        self.__member_id = self.generate_member_id()  # private attribute\n",
        "        self.name = name\n",
        "        self.age = age\n",
        "        self.membership_type = membership_type\n",
        "        self.membership_status = \"Active\"\n",
        "\n",
        "    def generate_member_id(self):\n",
        "        # generate a unique member ID (e.g. using a counter or UUID)\n",
        "        return \"M\" + str(uuid.uuid4())[:6]\n",
        "\n",
        "    def register_member(self):\n",
        "        print(f\"Member {self.name} registered with ID {self.__member_id}.\")\n",
        "\n",
        "    def renew_membership(self):\n",
        "        if self.membership_status == \"Active\":\n",
        "            print(f\"Membership for {self.name} renewed.\")\n",
        "        else:\n",
        "            print(\"Membership is not active.\")\n",
        "\n",
        "    def cancel_membership(self):\n",
        "        self.membership_status = \"Inactive\"\n",
        "        print(f\"Membership for {self.name} cancelled.\")\n",
        "\n",
        "    def get_member_id(self):\n",
        "        return self.__member_id  # encapsulation\n",
        "\n",
        "# FamilyMember class (inherits from Member)\n",
        "class FamilyMember(Member):\n",
        "    def __init__(self, name, age, membership_type, family_size):\n",
        "        super().__init__(name, age, membership_type)\n",
        "        self.family_size = family_size\n",
        "\n",
        "    def register_family_member(self):\n",
        "        super().register_member()\n",
        "        print(f\"Family membership for {self.name} with {self.family_size} members registered.\")\n",
        "\n",
        "    def get_family_discount(self):\n",
        "        if self.family_size > 3:\n",
        "            return 0.1  # 10% discount for families with 4 or more members\n",
        "        else:\n",
        "            return 0\n",
        "\n",
        "# IndividualMember class (inherits from Member)\n",
        "class IndividualMember(Member):\n",
        "    def __init__(self, name, age, membership_type, personal_trainer):\n",
        "        super().__init__(name, age, membership_type)\n",
        "        self.personal_trainer = personal_trainer\n",
        "\n",
        "    def register_individual_member(self):\n",
        "        super().register_member()\n",
        "        if self.personal_trainer:\n",
        "            print(f\"Individual membership for {self.name} with personal trainer registered.\")\n",
        "        else:\n",
        "            print(f\"Individual membership for {self.name} without personal trainer registered.\")\n",
        "\n",
        "    def get_personal_trainer_fee(self):\n",
        "        if self.personal_trainer:\n",
        "            return 50  # additional fee for personal trainer\n",
        "        else:\n",
        "            return 0\n",
        "\n",
        "# Example usage\n",
        "member1 = Member(\"John Doe\", 30, \"Premium\")\n",
        "member1.register_member()\n",
        "\n",
        "family_member1 = FamilyMember(\"Jane Smith\", 35, \"Family\", 4)\n",
        "family_member1.register_family_member()\n",
        "\n",
        "individual_member1 = IndividualMember(\"Bob Johnson\", 40, \"Basic\", True)\n",
        "individual_member1.register_individual_member()\n",
        "\n",
        "print(member1.get_member_id())\n",
        "print(family_member1.get_family_discount())\n",
        "print(individual_member1.get_personal_trainer_fee())"
      ],
      "metadata": {
        "id": "vhZQJ5vmdl1N",
        "colab": {
          "base_uri": "https://localhost:8080/"
        },
        "outputId": "e22aea3c-5085-4bc8-c182-68707b664978"
      },
      "execution_count": null,
      "outputs": [
        {
          "output_type": "stream",
          "name": "stdout",
          "text": [
            "Member John Doe registered with ID M7c115d.\n",
            "Member Jane Smith registered with ID M415427.\n",
            "Family membership for Jane Smith with 4 members registered.\n",
            "Member Bob Johnson registered with ID M3ccd5f.\n",
            "Individual membership for Bob Johnson with personal trainer registered.\n",
            "M7c115d\n",
            "0.1\n",
            "50\n"
          ]
        }
      ]
    },
    {
      "cell_type": "markdown",
      "source": [
        "9.Write a code for  Event Management System using OO4S3\n",
        "*  Create an Event 'lass that has attributes su'h as name, date, time, lo'ation, and list of attendees (private)\u0014\n",
        "* Implement methods to 'reate a new event, add or remove attendees, and get the total number of\n",
        "attendees\u0014\n",
        "* Use en'apsulation to hide the event's unique identifi'ation number\u0014\n",
        "* Inherit from the Event 'lass to 'reate a PrivateEvent 'lass and a Publi'Event 'lass, ea'h with their own\n",
        "spe'ifi' attributes and methods."
      ],
      "metadata": {
        "id": "bt84TE_HdoqN"
      }
    },
    {
      "cell_type": "code",
      "source": [
        "import uuid\n",
        "\n",
        "# Event class\n",
        "class Event:\n",
        "    def __init__(self, name, date, time, location):\n",
        "        self.__event_id = self.generate_event_id()  # private attribute\n",
        "        self.name = name\n",
        "        self.date = date\n",
        "        self.time = time\n",
        "        self.location = location\n",
        "        self.__attendees = []  # private attribute\n",
        "\n",
        "    def generate_event_id(self):\n",
        "        # generate a unique event ID (e.g. using a counter or UUID)\n",
        "        return \"E\" + str(uuid.uuid4())[:6]\n",
        "\n",
        "    def create_event(self):\n",
        "        print(f\"Event {self.name} created with ID {self.__event_id}.\")\n",
        "\n",
        "    def add_attendee(self, attendee):\n",
        "        self.__attendees.append(attendee)\n",
        "        print(f\"Attendee {attendee} added to event {self.name}.\")\n",
        "\n",
        "    def remove_attendee(self, attendee):\n",
        "        if attendee in self.__attendees:\n",
        "            self.__attendees.remove(attendee)\n",
        "            print(f\"Attendee {attendee} removed from event {self.name}.\")\n",
        "        else:\n",
        "            print(f\"Attendee {attendee} not found in event {self.name}.\")\n",
        "\n",
        "    def get_total_attendees(self):\n",
        "        return len(self.__attendees)\n",
        "\n",
        "    def get_event_id(self):\n",
        "        return self.__event_id  # encapsulation\n",
        "\n",
        "# PrivateEvent class (inherits from Event)\n",
        "class PrivateEvent(Event):\n",
        "    def __init__(self, name, date, time, location, password):\n",
        "        super().__init__(name, date, time, location)\n",
        "        self.password = password\n",
        "\n",
        "    def add_attendee(self, attendee, password):\n",
        "        if password == self.password:\n",
        "            super().add_attendee(attendee)\n",
        "        else:\n",
        "            print(\"Invalid password. Attendee not added.\")\n",
        "\n",
        "# PublicEvent class (inherits from Event)\n",
        "class PublicEvent(Event):\n",
        "    def __init__(self, name, date, time, location, max_capacity):\n",
        "        super().__init__(name, date, time, location)\n",
        "        self.max_capacity = max_capacity\n",
        "\n",
        "    def add_attendee(self, attendee):\n",
        "        if len(self._Event__attendees) < self.max_capacity:\n",
        "            super().add_attendee(attendee)\n",
        "        else:\n",
        "            print(\"Event is fully booked. Attendee not added.\")\n",
        "\n",
        "# Example usage\n",
        "event1 = Event(\"Conference\", \"2023-03-15\", \"10:00 AM\", \"New York\")\n",
        "event1.create_event()\n",
        "\n",
        "private_event1 = PrivateEvent(\"Wedding\", \"2023-06-01\", \"2:00 PM\", \"Las Vegas\", \"love123\")\n",
        "private_event1.add_attendee(\"John Doe\", \"love123\")\n",
        "\n",
        "public_event1 = PublicEvent(\"Festival\", \"2023-07-04\", \"12:00 PM\", \"Chicago\", 1000)\n",
        "public_event1.add_attendee(\"Jane Smith\")\n",
        "\n",
        "print(event1.get_total_attendees())\n",
        "print(private_event1.get_total_attendees())\n",
        "print(public_event1.get_total_attendees())"
      ],
      "metadata": {
        "id": "dOPowmC6dv6S",
        "colab": {
          "base_uri": "https://localhost:8080/"
        },
        "outputId": "a8733bc0-3c18-4490-fb2a-7d7758e6358c"
      },
      "execution_count": null,
      "outputs": [
        {
          "output_type": "stream",
          "name": "stdout",
          "text": [
            "Event Conference created with ID E2173fe.\n",
            "Attendee John Doe added to event Wedding.\n",
            "Attendee Jane Smith added to event Festival.\n",
            "0\n",
            "1\n",
            "1\n"
          ]
        }
      ]
    },
    {
      "cell_type": "markdown",
      "source": [
        "10.Write a code for Airline Reservation System using OO4S3\n",
        "* Create a Flight 'lass that has attributes su'h as flight number, departure and arrival airports, departure and\n",
        "arrival times, and available seats (private)\u0014\n",
        "* Implement methods to book a seat, 'an'el a reservation, and get the remaining available seats\u0014\n",
        "* Use en'apsulation to hide the flight's unique identifi'ation number\u0014\n",
        "* Inherit from the Flight 'lass to 'reate a Domesti'Flight 'lass and an InternationalFlight 'lass, ea'h with their\n",
        "own spe'ifi' attributes and methods."
      ],
      "metadata": {
        "id": "5JSkd-k0dwjD"
      }
    },
    {
      "cell_type": "code",
      "source": [
        "import uuid\n",
        "\n",
        "# Flight class\n",
        "class Flight:\n",
        "    def __init__(self, flight_number, departure_airport, arrival_airport, departure_time, arrival_time, available_seats):\n",
        "        self.__flight_id = self.generate_flight_id()  # private attribute\n",
        "        self.flight_number = flight_number\n",
        "        self.departure_airport = departure_airport\n",
        "        self.arrival_airport = arrival_airport\n",
        "        self.departure_time = departure_time\n",
        "        self.arrival_time = arrival_time\n",
        "        self.__available_seats = available_seats  # private attribute\n",
        "\n",
        "    def generate_flight_id(self):\n",
        "        # generate a unique flight ID (e.g. using a counter or UUID)\n",
        "        return \"F\" + str(uuid.uuid4())[:6]\n",
        "\n",
        "    def book_seat(self):\n",
        "        if self.__available_seats > 0:\n",
        "            self.__available_seats -= 1\n",
        "            print(\"Seat booked successfully.\")\n",
        "        else:\n",
        "            print(\"Flight is fully booked.\")\n",
        "\n",
        "    def cancel_reservation(self):\n",
        "        if self.__available_seats < self.get_total_seats():\n",
        "            self.__available_seats += 1\n",
        "            print(\"Reservation cancelled successfully.\")\n",
        "        else:\n",
        "            print(\"No reservations to cancel.\")\n",
        "\n",
        "    def get_remaining_seats(self):\n",
        "        return self.__available_seats\n",
        "\n",
        "    def get_flight_id(self):\n",
        "        return self.__flight_id  # encapsulation\n",
        "\n",
        "    def get_total_seats(self):\n",
        "        return self.__available_seats + self.get_reserved_seats()\n",
        "\n",
        "    def get_reserved_seats(self):\n",
        "        return self.get_total_seats() - self.__available_seats\n",
        "\n",
        "# DomesticFlight class (inherits from Flight)\n",
        "class DomesticFlight(Flight):\n",
        "    def __init__(self, flight_number, departure_airport, arrival_airport, departure_time, arrival_time, available_seats, domestic_route):\n",
        "        super().__init__(flight_number, departure_airport, arrival_airport, departure_time, arrival_time, available_seats)\n",
        "        self.domestic_route = domestic_route\n",
        "\n",
        "    def display_domestic_route(self):\n",
        "        print(f\"Domestic route: {self.domestic_route}\")\n",
        "\n",
        "# InternationalFlight class (inherits from Flight)\n",
        "class InternationalFlight(Flight):\n",
        "    def __init__(self, flight_number, departure_airport, arrival_airport, departure_time, arrival_time, available_seats, international_route, visa_required):\n",
        "        super().__init__(flight_number, departure_airport, arrival_airport, departure_time, arrival_time, available_seats)\n",
        "        self.international_route = international_route\n",
        "        self.visa_required = visa_required\n",
        "\n",
        "    def display_international_route(self):\n",
        "        print(f\"International route: {self.international_route}\")\n",
        "        if self.visa_required:\n",
        "            print(\"Visa required for this route.\")\n",
        "\n",
        "# Example usage\n",
        "domestic_flight1 = DomesticFlight(\"DF101\", \"New York\", \"Los Angeles\", \"08:00 AM\", \"11:00 AM\", 100, \"East Coast to West Coast\")\n",
        "domestic_flight1.book_seat()\n",
        "domestic_flight1.display_domestic_route()\n",
        "\n",
        "international_flight1 = InternationalFlight(\"IF202\", \"New York\", \"London\", \"10:00 AM\", \"06:00 PM\", 200, \"Transatlantic\", True)\n",
        "international_flight1.book_seat()\n",
        "international_flight1.display_international_route()\n",
        "\n",
        "print(domestic_flight1.get_remaining_seats())\n",
        "print(international_flight1.get_remaining_seats())"
      ],
      "metadata": {
        "id": "0KLBWMO-d3DR",
        "colab": {
          "base_uri": "https://localhost:8080/"
        },
        "outputId": "5fe3c80d-c2b3-4678-bb2c-08b402182ad4"
      },
      "execution_count": null,
      "outputs": [
        {
          "output_type": "stream",
          "name": "stdout",
          "text": [
            "Seat booked successfully.\n",
            "Domestic route: East Coast to West Coast\n",
            "Seat booked successfully.\n",
            "International route: Transatlantic\n",
            "Visa required for this route.\n",
            "99\n",
            "199\n"
          ]
        }
      ]
    },
    {
      "cell_type": "markdown",
      "source": [
        "# 11. Define a Python module named constants.py containing constants like pi and the speed of light"
      ],
      "metadata": {
        "id": "hHNa8XUqd5m3"
      }
    },
    {
      "cell_type": "code",
      "source": [
        "%%writefile constants.py\n",
        "\n",
        "PI = 3.14159\n",
        "SPEED_OF_LIGHT = 299792458  # meters per second (m/s)\n",
        "GRAVITY_ACCELERATION = 9.81  # meters per second squared (m/s^2)\n"
      ],
      "metadata": {
        "colab": {
          "base_uri": "https://localhost:8080/"
        },
        "id": "rEtGoreMd9Sl",
        "outputId": "51378993-c1af-46e2-f2e0-a365be053bf3"
      },
      "execution_count": null,
      "outputs": [
        {
          "output_type": "stream",
          "name": "stdout",
          "text": [
            "Writing constants.py\n"
          ]
        }
      ]
    },
    {
      "cell_type": "code",
      "source": [
        "# Importing constants from constants.py\n",
        "from constants import PI, SPEED_OF_LIGHT, GRAVITY_ACCELERATION\n",
        "\n",
        "# Using the imported constants\n",
        "print(f\"The value of pi is: {PI}\")\n",
        "print(f\"The speed of light is: {SPEED_OF_LIGHT} m/s\")\n",
        "print(f\"The acceleration due to gravity is: {GRAVITY_ACCELERATION} m/s^2\")\n"
      ],
      "metadata": {
        "colab": {
          "base_uri": "https://localhost:8080/"
        },
        "id": "5IDwOMEWecbF",
        "outputId": "c9827af7-da9e-4760-809b-44ede3e0872c"
      },
      "execution_count": null,
      "outputs": [
        {
          "output_type": "stream",
          "name": "stdout",
          "text": [
            "The value of pi is: 3.14159\n",
            "The speed of light is: 299792458 m/s\n",
            "The acceleration due to gravity is: 9.81 m/s^2\n"
          ]
        }
      ]
    },
    {
      "cell_type": "markdown",
      "source": [
        "#12. Write a Python module named calculator.py containing functions for addition, subtraction, multiplication, and division."
      ],
      "metadata": {
        "id": "8-Tyvyqzelbl"
      }
    },
    {
      "cell_type": "code",
      "source": [
        "%%writefile calculator.py\n",
        "def add(x, y):\n",
        "    return x + y\n",
        "\n",
        "def subtract(x, y):\n",
        "    return x - y\n",
        "\n",
        "def multiply(x, y):\n",
        "    return x * y\n",
        "\n",
        "def divide(x, y):\n",
        "    if y == 0:\n",
        "        raise ValueError(\"Division by zero is not allowed\")\n",
        "    return x / y"
      ],
      "metadata": {
        "colab": {
          "base_uri": "https://localhost:8080/"
        },
        "id": "xMJwC_gmehIh",
        "outputId": "7197f806-5071-41f5-b5bd-1dbaf69267cd"
      },
      "execution_count": null,
      "outputs": [
        {
          "output_type": "stream",
          "name": "stdout",
          "text": [
            "Writing calculator.py\n"
          ]
        }
      ]
    },
    {
      "cell_type": "code",
      "source": [
        "# Importing functions from calculator.py\n",
        "from calculator import add, subtract, multiply, divide\n",
        "\n",
        "# Using the imported functions\n",
        "print(f\"Addition: {add(5, 3)}\")  # Output: 8\n",
        "print(f\"Subtraction: {subtract(10, 4)}\")  # Output: 6\n",
        "print(f\"Multiplication: {multiply(7, 2)}\")  # Output: 14\n",
        "print(f\"Division: {divide(20, 4)}\")  # Output: 5.0\n"
      ],
      "metadata": {
        "colab": {
          "base_uri": "https://localhost:8080/"
        },
        "id": "ZcXUJtyOe5qc",
        "outputId": "1b426a7c-769d-4d4f-b400-a7efce31b0d1"
      },
      "execution_count": null,
      "outputs": [
        {
          "output_type": "stream",
          "name": "stdout",
          "text": [
            "Addition: 8\n",
            "Subtraction: 6\n",
            "Multiplication: 14\n",
            "Division: 5.0\n"
          ]
        }
      ]
    },
    {
      "cell_type": "markdown",
      "source": [
        "# 13. Implement a Python package structure for a project named ecommerce, containing modules for product  management and order processing"
      ],
      "metadata": {
        "id": "pW-84sdrfA06"
      }
    },
    {
      "cell_type": "code",
      "source": [
        "!mkdir -p ecommerce/products ecommerce/orders"
      ],
      "metadata": {
        "id": "th2Nj8l_e8Py"
      },
      "execution_count": null,
      "outputs": []
    },
    {
      "cell_type": "code",
      "source": [
        "%%writefile ecommerce/products/product.py\n",
        "\n",
        "def create_product(name, price):\n",
        "    # Function to create a new product\n",
        "    return {\"name\": name, \"price\": price}\n",
        "\n",
        "class Product:\n",
        "    def __init__(self, name, price):\n",
        "        self.name = name\n",
        "        self.price = price"
      ],
      "metadata": {
        "colab": {
          "base_uri": "https://localhost:8080/"
        },
        "id": "bCyfnDC_gOzb",
        "outputId": "00c5454d-492c-4171-89e7-4966a3aec2ab"
      },
      "execution_count": null,
      "outputs": [
        {
          "output_type": "stream",
          "name": "stdout",
          "text": [
            "Writing ecommerce/products/product.py\n"
          ]
        }
      ]
    },
    {
      "cell_type": "code",
      "source": [
        "# Create and define inventory.py\n",
        "%%writefile ecommerce/products/inventory.py\n",
        "\n",
        "def add_to_inventory(product, quantity):\n",
        "    # Function to add products to inventory\n",
        "    pass\n",
        "\n",
        "def remove_from_inventory(product, quantity):\n",
        "    # Function to remove products from inventory\n",
        "    pass\n"
      ],
      "metadata": {
        "colab": {
          "base_uri": "https://localhost:8080/"
        },
        "id": "TfTr6nQNftwS",
        "outputId": "410e30b6-4697-4232-a697-09d9b7b48bed"
      },
      "execution_count": null,
      "outputs": [
        {
          "output_type": "stream",
          "name": "stdout",
          "text": [
            "Writing ecommerce/products/inventory.py\n"
          ]
        }
      ]
    },
    {
      "cell_type": "code",
      "source": [
        "# Create __init__.py for products package\n",
        "%%writefile ecommerce/products/__init__.py"
      ],
      "metadata": {
        "colab": {
          "base_uri": "https://localhost:8080/"
        },
        "id": "rO1rRKMSgHy8",
        "outputId": "8ff56948-a378-43d1-e847-fb225686b176"
      },
      "execution_count": null,
      "outputs": [
        {
          "output_type": "stream",
          "name": "stdout",
          "text": [
            "Writing ecommerce/products/__init__.py\n"
          ]
        }
      ]
    },
    {
      "cell_type": "code",
      "source": [
        "# Create __init__.py for orders package\n",
        "%%writefile ecommerce/orders/__init__.py"
      ],
      "metadata": {
        "colab": {
          "base_uri": "https://localhost:8080/"
        },
        "id": "S1QsZdm-givN",
        "outputId": "95d4ed22-a2a7-44ea-a674-a7320e0986d2"
      },
      "execution_count": null,
      "outputs": [
        {
          "output_type": "stream",
          "name": "stdout",
          "text": [
            "Writing ecommerce/orders/__init__.py\n"
          ]
        }
      ]
    },
    {
      "cell_type": "markdown",
      "source": [
        "# 14. Implement a Python module named string_utils.py containing functions for string manipulation, such as  reversing and capitalizing strings"
      ],
      "metadata": {
        "id": "Hla5pkjqrYXb"
      }
    },
    {
      "cell_type": "code",
      "source": [
        "%%writefile string_utils.py\n",
        "def reverse_string(input_string):\n",
        "  return input_string[::-1]\n",
        "def capitalize_string(input_string):\n",
        "  return input_string.capitalize()"
      ],
      "metadata": {
        "id": "bZXWGXdWgrXK",
        "colab": {
          "base_uri": "https://localhost:8080/"
        },
        "outputId": "96c1f041-ecb9-4bb8-83ee-acb4f2d56701"
      },
      "execution_count": null,
      "outputs": [
        {
          "output_type": "stream",
          "name": "stdout",
          "text": [
            "Overwriting string_utils.py\n"
          ]
        }
      ]
    },
    {
      "cell_type": "code",
      "source": [
        "from string_utils import reverse_string, capitalize_string\n",
        "input_string=input(\"enter a string\")\n",
        "reverse= reverse_string(input_string)\n",
        "print(\"reverse of the string is\",reverse)\n",
        "capitalize=capitalize_string(input_string)\n",
        "print(capitalize)"
      ],
      "metadata": {
        "colab": {
          "base_uri": "https://localhost:8080/"
        },
        "id": "mZXkk9WnruyJ",
        "outputId": "cefe12e6-29e5-46f1-b15d-08e03ccb7ced"
      },
      "execution_count": null,
      "outputs": [
        {
          "output_type": "stream",
          "name": "stdout",
          "text": [
            "enter a stringhello world\n",
            "reverse of the string is dlrow olleh\n",
            "Hello world\n"
          ]
        }
      ]
    },
    {
      "cell_type": "markdown",
      "source": [
        "# 15. Write a Python module named file_operations.py with functions for reading, writing, and appending data to a file"
      ],
      "metadata": {
        "id": "-6m0rg90tN-Q"
      }
    },
    {
      "cell_type": "code",
      "source": [
        "%%writefile file_operations.py\n"
      ],
      "metadata": {
        "colab": {
          "base_uri": "https://localhost:8080/"
        },
        "id": "C_KaruRetJUf",
        "outputId": "0f60ef4b-a531-4924-8549-2cde624a37ae"
      },
      "execution_count": null,
      "outputs": [
        {
          "output_type": "stream",
          "name": "stdout",
          "text": [
            "Overwriting file_operations.py\n"
          ]
        }
      ]
    },
    {
      "cell_type": "code",
      "source": [
        "def read_file(file_name):\n",
        "    \"\"\"Read and return the contents of a file.\"\"\"\n",
        "    try:\n",
        "        with open(file_name, 'r') as file:\n",
        "            return file.read()\n",
        "    except FileNotFoundError:\n",
        "        return f\"Error: File '{file_name}' not found.\"\n",
        "\n",
        "def write_file(file_name, content):\n",
        "    \"\"\"Write content to a file, overwriting existing content.\"\"\"\n",
        "    try:\n",
        "        with open(file_name, 'w') as file:\n",
        "            file.write(content)\n",
        "        return f\"Successfully wrote to '{file_name}'.\"\n",
        "    except Exception as e:\n",
        "        return f\"Error: {e}\"\n",
        "\n",
        "def append_file(file_name, content):\n",
        "    \"\"\"Append content to the end of a file.\"\"\"\n",
        "    try:\n",
        "        with open(file_name, 'a') as file:\n",
        "            file.write(content)\n",
        "        return f\"Successfully appended to '{file_name}'.\"\n",
        "    except Exception as e:\n",
        "        return f\"Error: {e}\""
      ],
      "metadata": {
        "id": "SSarvTVqt1U8"
      },
      "execution_count": null,
      "outputs": []
    },
    {
      "cell_type": "markdown",
      "source": [
        "# 16. Write a Python program to create a text file named \"employees.txt\" and write the details of employees, including their name, age, and salary, into the file."
      ],
      "metadata": {
        "id": "RPjrmgq_vVSa"
      }
    },
    {
      "cell_type": "code",
      "source": [
        "def write_employee_data(file_name, employees):\n",
        "\n",
        "    try:\n",
        "        with open(file_name, 'w') as file:\n",
        "            for employee in employees:\n",
        "                file.write(f\"Name: {employee['name']}, Age: {employee['age']}, Salary: {employee['salary']}\\n\")\n",
        "        print(f\"Employee details have been written to {file_name} successfully.\")\n",
        "    except Exception as e:\n",
        "        print(f\"Error occurred while writing to {file_name}: {e}\")"
      ],
      "metadata": {
        "id": "A8OMMR6duWf1"
      },
      "execution_count": null,
      "outputs": []
    },
    {
      "cell_type": "code",
      "source": [
        "employees = [\n",
        "    {\"name\": \"John Doe\", \"age\": 30, \"salary\": 50000},\n",
        "    {\"name\": \"Jane Smith\", \"age\": 28, \"salary\": 45000}]"
      ],
      "metadata": {
        "id": "ou6EWHIbzUgR"
      },
      "execution_count": null,
      "outputs": []
    },
    {
      "cell_type": "code",
      "source": [
        "file_name = \"employees.txt\"\n",
        "write_employee_data(file_name, employees)"
      ],
      "metadata": {
        "colab": {
          "base_uri": "https://localhost:8080/"
        },
        "id": "ug4f0Xvezbps",
        "outputId": "7a28bc62-67e7-4f56-f617-5fca46a1bbbd"
      },
      "execution_count": null,
      "outputs": [
        {
          "output_type": "stream",
          "name": "stdout",
          "text": [
            "Employee details have been written to employees.txt successfully.\n"
          ]
        }
      ]
    },
    {
      "cell_type": "markdown",
      "source": [
        "# 17. Develop a Python script that opens an existing text file named \"inventory.txt\" in read mode and displays the contents of the file line by line."
      ],
      "metadata": {
        "id": "3UI_TXVyzrT4"
      }
    },
    {
      "cell_type": "code",
      "source": [
        "\n",
        "file_path = \"/content/inventory.txt\"\n",
        "\n",
        "def display_file_contents(file_path):\n",
        "    try:\n",
        "        with open(file_path, 'r') as file:\n",
        "            for line in file:\n",
        "                print(line.strip())\n",
        "    except FileNotFoundError:\n",
        "        print(f\"Error: File '{file_path}' not found.\")\n",
        "    except Exception as e:\n",
        "        print(f\"Error occurred while reading '{file_path}': {e}\")\n",
        "\n",
        "display_file_contents(file_path)\n"
      ],
      "metadata": {
        "colab": {
          "base_uri": "https://localhost:8080/"
        },
        "id": "obLZ7Xy4zgni",
        "outputId": "95628517-2c25-464e-d658-486ae343dcd2"
      },
      "execution_count": null,
      "outputs": [
        {
          "output_type": "stream",
          "name": "stdout",
          "text": [
            "Error: File '/content/inventory.txt' not found.\n"
          ]
        }
      ]
    },
    {
      "cell_type": "markdown",
      "source": [
        "# 18. Create a Python script that reads a text file named \"expenses.txt\" and calculates the total amount spent on various expenses listed in the file."
      ],
      "metadata": {
        "id": "gMBpXkuo0B_b"
      }
    },
    {
      "cell_type": "code",
      "source": [
        "\n",
        "file_path = \"/content/expenses.txt\"\n",
        "\n",
        "def calculate_total_expenses(file_path):\n",
        "    total = 0\n",
        "    try:\n",
        "        with open(file_path, 'r') as file:\n",
        "            for line in file:\n",
        "                line = line.strip()\n",
        "                if line:\n",
        "                    try:\n",
        "                        expense_amount = float(line)\n",
        "                        total += expense_amount\n",
        "                    except ValueError:\n",
        "                        print(f\"Skipping line '{line}'. Not a valid expense amount.\")\n",
        "        print(f\"Total amount spent on expenses: ${total:.2f}\")\n",
        "    except FileNotFoundError:\n",
        "        print(f\"Error: File '{file_path}' not found.\")\n",
        "    except Exception as e:\n",
        "        print(f\"Error occurred while reading '{file_path}': {e}\")\n",
        "\n",
        "\n",
        "calculate_total_expenses(file_path)\n"
      ],
      "metadata": {
        "colab": {
          "base_uri": "https://localhost:8080/"
        },
        "id": "m7rPcE1mz98n",
        "outputId": "8bddd12a-7a3c-4ccf-e0c6-e38710aab965"
      },
      "execution_count": null,
      "outputs": [
        {
          "output_type": "stream",
          "name": "stdout",
          "text": [
            "Error: File '/content/expenses.txt' not found.\n"
          ]
        }
      ]
    },
    {
      "cell_type": "markdown",
      "source": [
        "# 19. Create a Python program that reads a text file named \"paragraph.txt\" and counts the occurrences of  each word in the paragraph, displaying the results in alphabetical order"
      ],
      "metadata": {
        "id": "Fpik61n80iqg"
      }
    },
    {
      "cell_type": "code",
      "source": [
        "\n",
        "file_path = \"/content/paragraph.txt\"\n",
        "\n",
        "def count_word_occurrences(file_path):\n",
        "    word_count = {}\n",
        "\n",
        "    try:\n",
        "        with open(file_path, 'r') as file:\n",
        "            for line in file:\n",
        "\n",
        "                words = line.split()\n",
        "                for word in words:\n",
        "                    word = word.strip('.,?!:;-\\'\"()[]{}')\n",
        "\n",
        "                    word = word.lower()\n",
        "\n",
        "                    if word:\n",
        "                        if word in word_count:\n",
        "                            word_count[word] += 1\n",
        "                        else:\n",
        "                            word_count[word] = 1\n",
        "\n",
        "\n",
        "        sorted_words = sorted(word_count.items())\n",
        "        for word, count in sorted_words:\n",
        "            print(f\"{word}: {count}\")\n",
        "\n",
        "    except FileNotFoundError:\n",
        "        print(f\"Error: File '{file_path}' not found.\")\n",
        "    except Exception as e:\n",
        "        print(f\"Error occurred while reading '{file_path}': {e}\")\n",
        "count_word_occurrences(file_path)\n"
      ],
      "metadata": {
        "colab": {
          "base_uri": "https://localhost:8080/"
        },
        "id": "elYfKz8g0TZe",
        "outputId": "815fefdd-9039-4943-a1a5-18220da5343c"
      },
      "execution_count": null,
      "outputs": [
        {
          "output_type": "stream",
          "name": "stdout",
          "text": [
            "Error: File '/content/paragraph.txt' not found.\n"
          ]
        }
      ]
    },
    {
      "cell_type": "markdown",
      "source": [
        "# 20. What do you mean by Measure of Central Tendency and Measures of Dispersion .How it can be calculated"
      ],
      "metadata": {
        "id": "2OqvnOx73Kpa"
      }
    },
    {
      "cell_type": "markdown",
      "source": [
        "\n",
        "\n",
        "1. ** MEASURE OF CENTRAL TENDENCY**\n",
        "measure of central  tendency is a measure that results a single value representing mid value or typical value idf the dataset.\n",
        "* **  MEAN:**\n",
        "The arithmetic average of all the values in the dataset is called mean of that  data\n",
        "Mean= sum of all observations / number of all observations\n",
        "*  ** MEDIAN**\n",
        "The middle value in sorted,ascending,descending list of numbers is called the median of the numbers\n",
        "* ** MODE**\n",
        "the most frequently occuring number in the dataset is called mode of the data.\n",
        "2.  MEASURE OF DISPERSION\n",
        "Measure of dispersion measures the spread of the data points inn the data.\n",
        "\n",
        "\n",
        "*  RANGE\n",
        "The difference between the maximum and minimum values in the dataset.\n",
        "\n",
        "*   VARIANCE\n",
        "A measure of how much the values in the dataset vary from the mean\n",
        "*   STANDARD DEVIATION\n",
        "The square root of the variance. It measures the amount of variation or dispersion of a dataset relative to its mean\n",
        "*   INTERQUARTILE RANGE\n",
        "The difference between the 75th percentile (Q3) and the 25th percentile (Q1) of the dataset.\n",
        "\n",
        "\n",
        "\n"
      ],
      "metadata": {
        "id": "ELGPTC2K3iZ3"
      }
    },
    {
      "cell_type": "markdown",
      "source": [
        "# 21. What do you mean by skewness.Explain its types.Use graph to show"
      ],
      "metadata": {
        "id": "A-qZ5uvwySpj"
      }
    },
    {
      "cell_type": "markdown",
      "source": [
        "Skewness is a measure of the asymmetry of the probability distribution of a real-valued random variable about its mean.\n",
        "There are two types of skewness:\n",
        "1. Positive skewness\n",
        "* the tail on the right side is longer or fatter than the left side.\n",
        "* The mean is typically greater than the median, and the mode may be less than the median.\n",
        "2. Negative skewness\n",
        "* The tail on the left side is longer or fatter than the right side.\n",
        "* The mean is typically less than the median, and the mode may be greater than the median."
      ],
      "metadata": {
        "id": "BSmPWDU3ywB2"
      }
    },
    {
      "cell_type": "markdown",
      "source": [
        "# 22. Explain PROBABILITY MASS FUNCTION (PMF) and PROBABILITY DENSITY FUNCTION (PDF). and what is the difference between them?"
      ],
      "metadata": {
        "id": "U0y4DwAbzZ5_"
      }
    },
    {
      "cell_type": "markdown",
      "source": [
        "**Probability Mass Function (PMF)**:\n",
        "\n",
        "The Probability Mass Function (PMF) is used to describe the probability distribution of a discrete random variable.\n",
        "It gives the probability that a discrete random variable is exactly equal to some value.\n",
        "\n",
        "**Probability Density Function (PDF)**:\n",
        "\n",
        "The Probability Density Function (PDF) is used to describe the probability distribution of a continuous random variable."
      ],
      "metadata": {
        "id": "ERRUW5Ogzpu-"
      }
    },
    {
      "cell_type": "markdown",
      "source": [
        "# 23. What is correlation. Explain its type in details.what are the  methods of determining correlation"
      ],
      "metadata": {
        "id": "7uO8D-C50MY_"
      }
    },
    {
      "cell_type": "markdown",
      "source": [
        "\n",
        "\n",
        "Correlation is a statistical measure that describes the strength and direction of a relationship between two variables\n",
        "\n",
        "**Types of Correlation:**\n",
        "\n",
        "**Pearson Correlation Coefficient:**\n",
        "\n",
        "* Pearson correlation measures the linear relationship between two continuous variables.\n",
        "* It ranges from -1 to +1:\n",
        "\n",
        "* +1:Perfect positive correlation (as one variable increases, the other also increases proportionally).\n",
        "\n",
        "* −1: Perfect negative correlation (as one variable increases, the other decreases proportionally).\n",
        "\n",
        "\n",
        " **Spearman's Rank Correlation Coefficient:**\n",
        "* Spearman's correlation assesses the monotonic relationship (whether increasing or decreasing, but not necessarily linear) between two continuous or ordinal variables.\n",
        "* It uses ranks instead of actual values and is less sensitive to outliers than Pearson correlation.\n",
        "* It ranges from -1 to +1, with the same interpretations as Pearson correlation."
      ],
      "metadata": {
        "id": "qHF5LFVl0Xt6"
      }
    },
    {
      "cell_type": "markdown",
      "source": [
        "# 24. Calculate coefficient of correlation between the marks obtained by 10 students in Accountancy and statistics:\n",
        "Use Karl Pearson’s Coefficient of Correlation Method to find it"
      ],
      "metadata": {
        "id": "v4szNq9-1LSa"
      }
    },
    {
      "cell_type": "markdown",
      "source": [
        "r = [n(Σxy) - (Σx)(Σy)] / √[n(Σx²) - (Σx)²] * √[n(Σy²) - (Σy)²]\n",
        "\n",
        "\n",
        "r = [10(42575) - (570)(640)] / √[10(40650) - (570)²] * √[10(43750) - (640)²]\n",
        "\n",
        "\n",
        "r = [425750 - 364800] / √[406500 - 324900] * √[437500 - 409600]\n",
        "\n",
        "\n",
        "r = 60950 / √81600 * √27900\n",
        "\n",
        "\n",
        "r = 60950 / 285.66 * 167.03\n",
        "\n",
        "\n",
        "r ≈ 0.84"
      ],
      "metadata": {
        "id": "f5ZHhcSMRJwc"
      }
    },
    {
      "cell_type": "markdown",
      "source": [
        "# 25. Discuss the 4  differences between correlation and regression."
      ],
      "metadata": {
        "id": "n2vvtl2P1rl5"
      }
    },
    {
      "cell_type": "markdown",
      "source": [
        "Purpose:\n",
        "\n",
        "Correlation: Measures the strength and direction of a linear relationship between two variables.\n",
        "Regression: Predicts the value of a dependent variable based on the value of an independent variable.\n",
        "Nature:\n",
        "\n",
        "Correlation: Symmetric measure that quantifies how strong the relationship is between variables.\n",
        "Regression: Asymmetric technique where one variable (dependent) is predicted based on another (independent).\n",
        "Output:\n",
        "\n",
        "Correlation: Produces a correlation coefficient (e.g., Pearson's r) indicating the degree and direction of the relationship.\n",
        "Regression: Provides an equation (e.g., linear, logistic) that describes the relationship between variables and can be used for prediction.\n",
        "Causality:\n",
        "\n",
        "Correlation: Does not imply causation; it only indicates the presence and strength of a relationship.\n",
        "Regression: While not proving causation, regression can sometimes provide insights into causal relationships, especially in controlled experiments or well-designed studies."
      ],
      "metadata": {
        "id": "ewbd5d6OYdip"
      }
    },
    {
      "cell_type": "markdown",
      "source": [
        "# 26. Find the most likely price at Delhi corresponding to the price of Rs. 70 at Agra from the following data:\n",
        "\n",
        "Coefficient of correlation between the prices of the two places +0.8."
      ],
      "metadata": {
        "id": "tEuuxDcdYgWm"
      }
    },
    {
      "cell_type": "markdown",
      "source": [
        "the corresponding price at Delhi is also expected to be around Rs. 70, based on the linear relationship implied by the correlation coefficient.\n",
        "\n",
        "\n",
        "\n"
      ],
      "metadata": {
        "id": "zc2_sTqjYu4c"
      }
    },
    {
      "cell_type": "markdown",
      "source": [
        "# 28. What is  Normal Distribution? What are the four Assumptions of Normal Distribution? Explain in detail."
      ],
      "metadata": {
        "id": "PyDHhQxWYzaJ"
      }
    },
    {
      "cell_type": "markdown",
      "source": [
        "Normal distribution, also known as Gaussian distribution, is a continuous probability distribution that is symmetric around its mean, where the mean, median, and mode are all equal.\n",
        "Four Assumptions of Normal Distribution:\n",
        "* Symmetry (Skewness = 0)\n",
        "* Unimodal (Mode = Median = Mean)\n",
        "* Exact Shape Determined by Mean and Standard Deviation\n",
        "* Empirical Rule (68-95-99.7 Rule)"
      ],
      "metadata": {
        "id": "XfzIeDrnZAjy"
      }
    },
    {
      "cell_type": "markdown",
      "source": [
        "# 29.Write all the characteristics or Properties of the Normal Distribution Curve"
      ],
      "metadata": {
        "id": "0SNLOEeKZase"
      }
    },
    {
      "cell_type": "markdown",
      "source": [
        " the main characteristics of the normal distribution curve are:\n",
        "1.  Bell-shaped Curve\n",
        "2.  Unimodal\n",
        "3.  Mean, Median, and Mode Equality\n",
        "4.  Symmetry\n",
        "5.  Kurtosis\n",
        "6.  Skewness\n",
        "\n",
        "\n",
        "\n",
        "\n",
        "\n"
      ],
      "metadata": {
        "id": "UtnV0hJ-ZmF1"
      }
    },
    {
      "cell_type": "markdown",
      "source": [
        "#30.Which of the following options are  correct about Normal Distribution Curve.\n",
        "\n",
        "\n",
        "(a) Within a range 0.6745 of σ on both sides the middle 50% of the observations occur i,e. mean ±0.6745σ\n",
        "covers 50% area 25% on each side.\n",
        "\n",
        "(b) Mean ±1S.D. (i,e.µ ± 1σ) covers 68.268% area, 34.134 % area lies on either side of the mean.\n",
        "\n",
        "(c) Mean ±2S.D. (i,e. µ ± 2σ) covers 95.45% area, 47.725% area lies on either side of the mean.\n",
        "\n",
        "(d) Mean ±3 S.D. (i,e. µ ±3σ) covers 99.73% area, 49.856% area lies on the either side of the mean.\n",
        "\n",
        " (e) Only 0.27% area is outside the range µ ±"
      ],
      "metadata": {
        "id": "i3ZQi_iraHK8"
      }
    },
    {
      "cell_type": "markdown",
      "source": [
        "==>  The correct statements are (a), (d), and (e). Statements (b) and (c) contain inaccuracies in their percentage values for coverage under the normal distribution curve"
      ],
      "metadata": {
        "id": "6RkWnZG1aSv3"
      }
    },
    {
      "cell_type": "markdown",
      "source": [
        "##31. The mean of a distribution is 60 with a standard deviation of 10. Assuming that the distribution is normal, what percentage of items be (i) between 60 and 72, (ii) between 50 and 60, (iii) beyond 72 and (iv) between 70 and 80?"
      ],
      "metadata": {
        "id": "YkXSaGxdacPM"
      }
    },
    {
      "cell_type": "markdown",
      "source": [
        "\n",
        "\n",
        "Given:\n",
        "\n",
        "Mean (\n",
        "𝜇\n",
        "μ) = 60\n",
        "Standard deviation (\n",
        "𝜎\n",
        "σ) = 10\n",
        "i) Between 60 and 72:\n",
        "\n",
        "To find the percentage of items between 60 and 72:\n",
        "\n",
        "60 corresponds to\n",
        "𝜇\n",
        "μ.\n",
        "72 is\n",
        "72\n",
        "−\n",
        "𝜇\n",
        "=\n",
        "72\n",
        "−\n",
        "60\n",
        "=\n",
        "12\n",
        "72−μ=72−60=12 units above\n",
        "𝜇\n",
        "μ.\n",
        "We need to find the area under the curve between\n",
        "𝜇\n",
        "μ and 72, using the standard deviation:\n",
        "\n",
        "Convert 12 into units of standard deviation:\n",
        "12\n",
        "𝜎\n",
        "=\n",
        "12\n",
        "10\n",
        "=\n",
        "1.2\n",
        "σ\n",
        "12\n",
        "​\n",
        " =\n",
        "10\n",
        "12\n",
        "​\n",
        " =1.2 standard deviations above the mean.\n",
        "Now, using the cumulative probabilities from the standard normal distribution table (or a calculator):\n",
        "\n",
        "The area between\n",
        "𝜇\n",
        "μ and 72 is approximately 78.81%.\n",
        "ii) Between 50 and 60:\n",
        "\n",
        "To find the percentage of items between 50 and 60:\n",
        "\n",
        "50 is\n",
        "50\n",
        "−\n",
        "𝜇\n",
        "=\n",
        "50\n",
        "−\n",
        "60\n",
        "=\n",
        "−\n",
        "10\n",
        "50−μ=50−60=−10 units below\n",
        "𝜇\n",
        "μ.\n",
        "Convert -10 into units of standard deviation:\n",
        "−\n",
        "10\n",
        "𝜎\n",
        "=\n",
        "−\n",
        "10\n",
        "10\n",
        "=\n",
        "−\n",
        "1\n",
        "σ\n",
        "−10\n",
        "​\n",
        " =\n",
        "10\n",
        "−10\n",
        "​\n",
        " =−1 standard deviation below the mean.\n",
        "Using the cumulative probabilities:\n",
        "\n",
        "The area between 50 and\n",
        "𝜇\n",
        "μ is approximately 34.13% (since this is within 1 standard deviation from the mean).\n",
        "iii) Beyond 72:\n",
        "\n",
        "To find the percentage of items beyond 72:\n",
        "\n",
        "Beyond 72 means we are looking for values greater than 72.\n",
        "Calculate the area to the right of 72:\n",
        "\n",
        "Convert 72 into units of standard deviation:\n",
        "72\n",
        "−\n",
        "𝜇\n",
        "𝜎\n",
        "=\n",
        "72\n",
        "−\n",
        "60\n",
        "10\n",
        "=\n",
        "1.2\n",
        "σ\n",
        "72−μ\n",
        "​\n",
        " =\n",
        "10\n",
        "72−60\n",
        "​\n",
        " =1.2 standard deviations above the mean.\n",
        "From the standard normal distribution table (or calculator), the area beyond 72 is approximately 11.19%.\n",
        "iv) Between 70 and 80:\n",
        "\n",
        "To find the percentage of items between 70 and 80:\n",
        "\n",
        "70 corresponds to\n",
        "70\n",
        "−\n",
        "𝜇\n",
        "=\n",
        "70\n",
        "−\n",
        "60\n",
        "=\n",
        "10\n",
        "70−μ=70−60=10 units above\n",
        "𝜇\n",
        "μ.\n",
        "80 corresponds to\n",
        "80\n",
        "−\n",
        "𝜇\n",
        "=\n",
        "80\n",
        "−\n",
        "60\n",
        "=\n",
        "20\n",
        "80−μ=80−60=20 units above\n",
        "𝜇\n",
        "μ.\n",
        "Convert these into standard deviation units:\n",
        "\n",
        "70\n",
        "−\n",
        "𝜇\n",
        "𝜎\n",
        "=\n",
        "10\n",
        "10\n",
        "=\n",
        "1\n",
        "σ\n",
        "70−μ\n",
        "​\n",
        " =\n",
        "10\n",
        "10\n",
        "​\n",
        " =1 standard deviation above the mean.\n",
        "80\n",
        "−\n",
        "𝜇\n",
        "𝜎\n",
        "=\n",
        "20\n",
        "10\n",
        "=\n",
        "2\n",
        "σ\n",
        "80−μ\n",
        "​\n",
        " =\n",
        "10\n",
        "20\n",
        "​\n",
        " =2 standard deviations above the mean."
      ],
      "metadata": {
        "id": "jx7AUpBVarMi"
      }
    },
    {
      "cell_type": "markdown",
      "source": [
        "# 32. 15000 students sat for an examination. The mean marks was 49 and the distribution of marks had a standard deviation of 6. Assuming that the marks were normally distributed what proportion of students scored (a) more than 55 marks, (b) more than 70 marks"
      ],
      "metadata": {
        "id": "dvX_N-9ja6rf"
      }
    },
    {
      "cell_type": "markdown",
      "source": [
        "(a) To find the proportion of students who scored more than 55 marks, we can use the z-score formula:\n",
        "\n",
        "z = (X - μ) / σ\n",
        "\n",
        "where X is the raw score, μ is the mean, and σ is the standard deviation.\n",
        "\n",
        "For X = 55, μ = 49, and σ = 6, we have:\n",
        "\n",
        "z = (55 - 49) / 6 z = 1\n",
        "\n",
        "Now, we can use a z-table or calculator to find the proportion of area to the right of z = 1. We get:\n",
        "\n",
        "P(X > 55) = P(z > 1) ≈ 0.1587\n",
        "\n",
        "Therefore, approximately 15.87% of students scored more than 55 marks.\n",
        "\n",
        "(b) To find the proportion of students who scored more than 70 marks, we can use the same z-score formula:\n",
        "\n",
        "z = (X - μ) / σ\n",
        "\n",
        "For X = 70, μ = 49, and σ = 6, we have:\n",
        "\n",
        "z = (70 - 49) / 6 z = 3.167\n",
        "\n",
        "Now, we can use a z-table or calculator to find the proportion of area to the right of z = 3.167. However, since the z-table or calculator only gives the area up to a certain number of decimal places, we can approximate the proportion as follows:\n",
        "\n",
        "P(X > 70) ≈ 1 - P(z < 3.167) P(X > 70) ≈ 1 - 0.9991 P(X > 70) ≈ 0.0009\n",
        "\n",
        "Therefore, approximately 0.09% of students scored more than 70 marks"
      ],
      "metadata": {
        "id": "yWSEaN8xVJdR"
      }
    },
    {
      "cell_type": "markdown",
      "source": [
        "# 33. If the height of 500 students are normally distributed with mean 65 inch and standard deviation 5 inch. How many students have height : a) greater than 70 inch. b) between 60 and 70 inch."
      ],
      "metadata": {
        "id": "DYaNdOoPbBVA"
      }
    },
    {
      "cell_type": "code",
      "source": [
        "import scipy.stats as stats\n",
        "\n",
        "# Given parameters\n",
        "mu = 65  # mean height in inches\n",
        "sigma = 5  # standard deviation in inches\n",
        "n = 500  # number of students\n",
        "\n",
        "# (a) Find the number of students with height greater than 70 inches\n",
        "z = (70 - mu) / sigma\n",
        "p = 1 - stats.norm.cdf(z)\n",
        "num_students = int(p * n)\n",
        "print(f\"(a) Number of students with height greater than 70 inches: {num_students}\")\n",
        "\n",
        "# (b) Find the number of students with height between 60 and 70 inches\n",
        "z1 = (60 - mu) / sigma\n",
        "z2 = (70 - mu) / sigma\n",
        "p1 = stats.norm.cdf(z1)\n",
        "p2 = stats.norm.cdf(z2)\n",
        "p_between = p2 - p1\n",
        "num_students = int(p_between * n)\n",
        "print(f\"(b) Number of students with height between 60 and 70 inches: {num_students}\")"
      ],
      "metadata": {
        "id": "fqZlKcpjbFWQ",
        "colab": {
          "base_uri": "https://localhost:8080/"
        },
        "outputId": "ddfb8196-3c69-4490-dc50-8cb76a9b4eb3"
      },
      "execution_count": null,
      "outputs": [
        {
          "output_type": "stream",
          "name": "stdout",
          "text": [
            "(a) Number of students with height greater than 70 inches: 79\n",
            "(b) Number of students with height between 60 and 70 inches: 341\n"
          ]
        }
      ]
    },
    {
      "cell_type": "markdown",
      "source": [
        "# 34. What is the statistical hypothesis? Explain the errors in hypothesis testing.b)Explain the  Sample. What are Large Samples & Small Samples?"
      ],
      "metadata": {
        "id": "YHbw2bIkbJH3"
      }
    },
    {
      "cell_type": "markdown",
      "source": [
        "**Statistical Hypothesis:**\n",
        "\n",
        "A statistical hypothesis is an assumption about a population parameter. It is a statement or proposition that can be tested using statistical methods.\n",
        " In hypothesis testing, we typically have two types of hypotheses:\n",
        "\n",
        "\n",
        "*   Null Hypothesis (H₀)\n",
        "*   Alternative Hypothesis (H₁ or Hₐ)\n",
        "Errors in Hypothesis Testing:\n",
        "\n",
        "In hypothesis testing, there are two types of errors that can occur:\n",
        "\n",
        "**Type I Error (False Positive)**:\n",
        "\n",
        "This occurs when the null hypothesis is rejected when it is actually true.\n",
        "\n",
        "**Type II Error (False Negative)**:\n",
        "\n",
        "This occurs when the null hypothesis is not rejected when it is actually false.\n",
        "\n",
        "\n",
        "**Sample:**\n",
        "\n",
        "A sample is a subset of a population that is selected for study. It is used to make inferences or conclusions about the larger population from which it is draw.\n",
        "* **Large Samples**:\n",
        "\n",
        "Large samples typically refer to samples that are sufficiently large to represent the population adequately.\n",
        "\n",
        "* **Small Samples**:\n",
        "\n",
        "Small samples refer to samples that are relatively small compared to the population.\n"
      ],
      "metadata": {
        "id": "zgDJfM1DbRdJ"
      }
    },
    {
      "cell_type": "markdown",
      "source": [
        "# 35.A random sample of size 25 from a population gives the sample standard derivation to be 9.0. Test the hypothesis that the population standard derivation is 10.5.\n",
        "\n",
        "Hint(Use chi-square distribution)."
      ],
      "metadata": {
        "id": "MflO4fTdcE1T"
      }
    },
    {
      "cell_type": "markdown",
      "source": [
        "Null Hypothesis (H₀):\n",
        "𝜎\n",
        "=\n",
        "𝜎\n",
        "0\n",
        "=\n",
        "10.5\n",
        "σ=σ\n",
        "0\n",
        "​\n",
        " =10.5\n",
        "\n",
        "Alternative Hypothesis (H₁):\n",
        "𝜎\n",
        "≠\n",
        "𝜎\n",
        "0\n",
        "σ\n",
        "\n",
        "=σ\n",
        "0\n",
        "​\n",
        "  (two-tailed test)\n",
        "  df=n−1=25−1=24.\n",
        "\n",
        " Calculate the Critical Value:\n",
        "\n",
        "Since it's a two-tailed test and we need to consider both tails, we divide the significance level\n",
        "𝛼\n",
        "α by 2 to find each critical value for rejection region.\n",
        "\n",
        "Chi-square distribution has reject"
      ],
      "metadata": {
        "id": "XWkqR8kscWKC"
      }
    },
    {
      "cell_type": "markdown",
      "source": [
        "# 37.100 students of a PW IOI obtained the following grades in Data Science paper :\n",
        "\n",
        "Grade :[A, B, C, D, E]\n",
        "\n",
        " Total Frequency :[15, 17, 30, 22, 16, 100]\n",
        "\n",
        "Using the  χ 2 test , examine the hypothesis that the distribution of grades is uniform."
      ],
      "metadata": {
        "id": "gIz6B4sUcliu"
      }
    },
    {
      "cell_type": "markdown",
      "source": [
        "**Null Hypothesis (H₀)**: The distribution of grades follows a uniform distribution.\n",
        "**Alternative Hypothesis (H₁)**: The distribution of grades does not follow a uniform distribution.\n",
        "Total number of students = 100\n",
        "Number of grades = 5 (A, B, C, D, E)\n",
        "Expected frequency for each grade under\n",
        "𝐻\n",
        "0\n",
        "H\n",
        "0\n",
        "​\n",
        " :\n",
        "Expected frequency\n",
        "=\n",
        "Total number of students\n",
        "Number of grades\n",
        "=\n",
        "100\n",
        "5\n",
        "=\n",
        "20\n",
        "Expected frequency=\n",
        "Number of grades\n",
        "Total number of students\n",
        "​\n",
        " =\n",
        "5\n",
        "100\n",
        "​\n",
        " =20\n",
        "\n",
        " χ\n",
        "2\n",
        " =\n",
        "20\n",
        "(15−20)\n",
        "2\n",
        "\n",
        "​\n",
        " +\n",
        "20\n",
        "(17−20)\n",
        "2\n",
        "\n",
        "​\n",
        " +\n",
        "20\n",
        "(30−20)\n",
        "2\n",
        "\n",
        "​\n",
        " +\n",
        "20\n",
        "(22−20)\n",
        "2\n",
        "\n",
        "​\n",
        " +\n",
        "20\n",
        "(16−20)\n",
        "2\n",
        "\n",
        "​\n",
        "\n",
        "χ\n",
        "2\n",
        " =7.7\n",
        "\n",
        " df=4.\n",
        "𝜒\n",
        "critical\n",
        "2\n",
        "=\n",
        "9.488\n",
        "χ\n",
        "critical\n",
        "2\n",
        "​\n",
        " =9.488\n",
        "\n",
        " χ\n",
        "statistic\n",
        "2\n",
        "​\n",
        " =7.7\n",
        "𝜒\n",
        "critical\n",
        "2\n",
        "=\n",
        "9.488\n",
        "χ\n",
        "critical\n",
        "2\n",
        "​\n",
        " =9.488\n",
        "Since\n",
        "𝜒\n",
        "statistic\n",
        "2\n",
        "(\n",
        "7.7\n",
        ")\n",
        "χ\n",
        "statistic\n",
        "2\n",
        "​\n",
        " (7.7) <\n",
        "𝜒\n",
        "critical\n",
        "2\n",
        "(\n",
        "9.488\n",
        ")\n",
        "χ\n",
        "critical\n",
        "2\n",
        "​\n",
        " (9.488), we do not reject the null hypothesis."
      ],
      "metadata": {
        "id": "toaepf2lcryb"
      }
    },
    {
      "cell_type": "markdown",
      "source": [
        "# 38.Anova Test"
      ],
      "metadata": {
        "id": "mEz9cI_HeZhj"
      }
    },
    {
      "cell_type": "code",
      "source": [
        "import pandas as pd\n",
        "import statsmodels.formula.api as sm\n",
        "\n",
        "# Create a pandas DataFrame from the data\n",
        "data = {\n",
        "    'Water_Temp': ['Cold Water', 'Warm Water', 'Hot Water'],\n",
        "    'Detergent A': [57, 49, 54],\n",
        "    'Detergent B': [55, 52, 46],\n",
        "    'Detergent C': [67, 68, 58]\n",
        "}\n",
        "df = pd.DataFrame(data)\n",
        "\n",
        "# Melt the DataFrame to create a long format for ANOVA\n",
        "df_melt = pd.melt(df, id_vars='Water_Temp', var_name='Detergent', value_name='Whiteness')\n",
        "\n",
        "# Perform two-way ANOVA\n",
        "model = sm.ols('Whiteness ~ C(Water_Temp) + C(Detergent) + C(Water_Temp):C(Detergent)', data=df_melt)\n",
        "results = model.fit()\n",
        "\n",
        "# Print the ANOVA table\n",
        "print(results.summary())"
      ],
      "metadata": {
        "id": "uJ0ohLO3bGeY",
        "colab": {
          "base_uri": "https://localhost:8080/"
        },
        "outputId": "5d9ada3a-63a6-47c8-ea48-a6af2cb717b0"
      },
      "execution_count": null,
      "outputs": [
        {
          "output_type": "stream",
          "name": "stderr",
          "text": [
            "/usr/local/lib/python3.10/dist-packages/scipy/stats/_stats_py.py:1806: UserWarning: kurtosistest only valid for n>=20 ... continuing anyway, n=9\n",
            "  warnings.warn(\"kurtosistest only valid for n>=20 ... continuing \"\n",
            "/usr/local/lib/python3.10/dist-packages/statsmodels/regression/linear_model.py:1796: RuntimeWarning: divide by zero encountered in divide\n",
            "  return 1 - (np.divide(self.nobs - self.k_constant, self.df_resid)\n",
            "/usr/local/lib/python3.10/dist-packages/statsmodels/regression/linear_model.py:1796: RuntimeWarning: invalid value encountered in scalar multiply\n",
            "  return 1 - (np.divide(self.nobs - self.k_constant, self.df_resid)\n",
            "/usr/local/lib/python3.10/dist-packages/statsmodels/regression/linear_model.py:1718: RuntimeWarning: divide by zero encountered in scalar divide\n",
            "  return np.dot(wresid, wresid) / self.df_resid\n"
          ]
        },
        {
          "output_type": "stream",
          "name": "stdout",
          "text": [
            "                            OLS Regression Results                            \n",
            "==============================================================================\n",
            "Dep. Variable:              Whiteness   R-squared:                       1.000\n",
            "Model:                            OLS   Adj. R-squared:                    nan\n",
            "Method:                 Least Squares   F-statistic:                       nan\n",
            "Date:                Thu, 18 Jul 2024   Prob (F-statistic):                nan\n",
            "Time:                        05:36:42   Log-Likelihood:                 271.26\n",
            "No. Observations:                   9   AIC:                            -524.5\n",
            "Df Residuals:                       0   BIC:                            -522.8\n",
            "Df Model:                           8                                         \n",
            "Covariance Type:            nonrobust                                         \n",
            "===========================================================================================================================\n",
            "                                                              coef    std err          t      P>|t|      [0.025      0.975]\n",
            "---------------------------------------------------------------------------------------------------------------------------\n",
            "Intercept                                                  57.0000        inf          0        nan         nan         nan\n",
            "C(Water_Temp)[T.Hot Water]                                 -3.0000        inf         -0        nan         nan         nan\n",
            "C(Water_Temp)[T.Warm Water]                                -8.0000        inf         -0        nan         nan         nan\n",
            "C(Detergent)[T.Detergent B]                                -2.0000        inf         -0        nan         nan         nan\n",
            "C(Detergent)[T.Detergent C]                                10.0000        inf          0        nan         nan         nan\n",
            "C(Water_Temp)[T.Hot Water]:C(Detergent)[T.Detergent B]     -6.0000        inf         -0        nan         nan         nan\n",
            "C(Water_Temp)[T.Warm Water]:C(Detergent)[T.Detergent B]     5.0000        inf          0        nan         nan         nan\n",
            "C(Water_Temp)[T.Hot Water]:C(Detergent)[T.Detergent C]     -6.0000        inf         -0        nan         nan         nan\n",
            "C(Water_Temp)[T.Warm Water]:C(Detergent)[T.Detergent C]     9.0000        inf          0        nan         nan         nan\n",
            "==============================================================================\n",
            "Omnibus:                        6.951   Durbin-Watson:                   1.101\n",
            "Prob(Omnibus):                  0.031   Jarque-Bera (JB):                2.313\n",
            "Skew:                           1.142   Prob(JB):                        0.315\n",
            "Kurtosis:                       3.977   Cond. No.                         13.9\n",
            "==============================================================================\n",
            "\n",
            "Notes:\n",
            "[1] Standard Errors assume that the covariance matrix of the errors is correctly specified.\n"
          ]
        }
      ]
    },
    {
      "cell_type": "markdown",
      "source": [
        "##**50.Machine Learning**"
      ],
      "metadata": {
        "id": "NiobcRrEecEO"
      }
    },
    {
      "cell_type": "markdown",
      "source": [
        "# what is the difference between Series & Dataframes"
      ],
      "metadata": {
        "id": "9LcVcOzQeoig"
      }
    },
    {
      "cell_type": "markdown",
      "source": [
        "* A Series is a one-dimensional labeled array that can hold data of any type (integer, float, string, etc.). It is essentially a labeled list or column of data.\n",
        "\n",
        "*  A DataFrame is a two-dimensional labeled data structure with columns of potentially different types. It is akin to a spreadsheet or a SQL table"
      ],
      "metadata": {
        "id": "1U6DCiBDe-GQ"
      }
    },
    {
      "cell_type": "markdown",
      "source": [
        "# Difference beween loc and iloc"
      ],
      "metadata": {
        "id": "E2PtOM8UfOIq"
      }
    },
    {
      "cell_type": "markdown",
      "source": [
        "The terms loc and iloc are methods used in pandas for selecting data from a DataFrame, but they operate differently based on the type of indexing they use\n",
        "\n",
        "**loc**\n",
        "\n",
        "**Definition** : loc is label-based indexing, which means that you use labels (row labels and column labels) to select data from a DataFrame.\n",
        "\n",
        "**Syntax:** df.loc[row_label, column_label]\n",
        "\n",
        "**iloc**\n",
        "\n",
        "**Definition**: iloc is integer-based indexing, which means that you use integers to select data from a DataFrame, similar to Python's standard list indexing.\n",
        "\n",
        "**Syntax:** df.iloc[row_index, column_index]"
      ],
      "metadata": {
        "id": "4A2aZZERfhja"
      }
    },
    {
      "cell_type": "markdown",
      "source": [
        "# What is the difference between supervised and unsupervised learning."
      ],
      "metadata": {
        "id": "lOcac_EBgCRg"
      }
    },
    {
      "cell_type": "markdown",
      "source": [
        "**Supervised learning** :\n",
        "\n",
        " it a type of machine learning where the model learns from labeled data. Labeled data means that the input data (features) are paired with the correct output or target variable\n",
        "\n",
        "**Example:**\n",
        " Classification: Predicting whether an email is spam or not based on its features (words, sender, etc.).\n",
        "\n",
        "**Unsupervised Learning**:\n",
        " Unsupervised learning is a type of machine learning where the model learns from unlabeled data or data with no predefined outcomes. The goal is to find hidden patterns or intrinsic structures in the input data.\n",
        "\n",
        "**Examples:**\n",
        "Clustering: Grouping customers based on their purchasing behavior without any prior labels."
      ],
      "metadata": {
        "id": "IIN-OXexga-H"
      }
    },
    {
      "cell_type": "markdown",
      "source": [
        "# Explain the bias-variance tradeoff"
      ],
      "metadata": {
        "id": "wS8pLQgvhUUm"
      }
    },
    {
      "cell_type": "markdown",
      "source": [
        "It refers to the delicate balance between two sources of error that affect the performance of machine learning algorithms: bias and variance.\n",
        "\n",
        "**Bias**:\n",
        "Bias refers to the error introduced by approximating a real-world problem with a simplified model. It occurs when a model is too simple or has assumptions that do not match the true underlying relationship between features and the target variable.\n",
        "\n",
        "**Variance**:\n",
        " Variance refers to the error introduced by modeling the random noise in the training data. It occurs when a model is too complex and captures noise and fluctuations that do not generalize to new data.\n",
        "\n",
        "The bias-variance tradeoff illustrates the compromise that machine learning practitioners face when selecting and training models:\n",
        "\n",
        "**High Bias (Low Variance)**: Models are too simplistic and may miss important patterns in the data (underfitting).\n",
        "**High Variance (Low Bias)**: Models are too complex and fit the noise in the training data, leading to poor generalization to new data (overfitting)."
      ],
      "metadata": {
        "id": "1SZ11kgYhrnw"
      }
    },
    {
      "cell_type": "markdown",
      "source": [
        "# What are precision and recall? How are they different from accuracy"
      ],
      "metadata": {
        "id": "97L3Wt0XitOs"
      }
    },
    {
      "cell_type": "markdown",
      "source": [
        "\n",
        "Precision, recall, and accuracy are metrics used to evaluate the performance of classification models in machine learning, especially in scenarios where the classes may be imbalanced.\n",
        "\n",
        "**Accuracy**\n",
        "\n",
        " Accuracy measures the proportion of correctly predicted instances (both true positives and true negatives) out of the total number of instances.\n",
        "\n",
        "**Precision**\n",
        "Precision measures the proportion of correctly predicted positive instances (true positives) out of all instances predicted as positive (true positives + false positives).\n",
        "\n",
        "**Recall (Sensitivity or True Positive Rate)**\n",
        "Recall measures the proportion of correctly predicted positive instances (true positives) out of all actual positive instances (true positives + false negatives)."
      ],
      "metadata": {
        "id": "WnPJ84mzjLD0"
      }
    },
    {
      "cell_type": "markdown",
      "source": [
        "# What is overfitting and how can it be prevented?"
      ],
      "metadata": {
        "id": "I81zpH3WjraR"
      }
    },
    {
      "cell_type": "markdown",
      "source": [
        "Overfitting in machine learning occurs when a model learns not only the underlying pattern from the training data but also captures noise, randomness, and specific details of the training dataset that do not generalize to new, unseen data.\n",
        "**Prevention of Overfitting**\n",
        "* Cross-validation\n",
        "* Train-Validation-Test Split\n",
        "* Regularization\n",
        "* Feature Selection\n",
        "* Data Augmentation"
      ],
      "metadata": {
        "id": "XKq7aH3Sk7TY"
      }
    },
    {
      "cell_type": "markdown",
      "source": [
        "# Explain the concept of cross-validation"
      ],
      "metadata": {
        "id": "2P_o_SPmlc4R"
      }
    },
    {
      "cell_type": "markdown",
      "source": [
        "It is primarily used when the dataset is limited in size or when one wants to estimate the model's performance on unseen data accurately. The concept revolves around partitioning the data into multiple subsets, training the model on a subset of the data, and then evaluating it on the remaining subset(s)."
      ],
      "metadata": {
        "id": "UVgWmVhglufY"
      }
    },
    {
      "cell_type": "markdown",
      "source": [
        "# what is the difference between a classification and regression problem"
      ],
      "metadata": {
        "id": "US3zXZmA64sa"
      }
    },
    {
      "cell_type": "markdown",
      "source": [
        "**CLASSIFICATION PROBLEM**\n",
        "\n",
        "* In a classification problem, the target variable is a categorical label or class, and the goal is to predict the class or category that an instance belongs to. The target variable is discrete, meaning it can take on only a limited number of distinct values.\n",
        "\n",
        "**REGRESSION PROBLEM**\n",
        "\n",
        "* In a regression problem, the target variable is continuous or numerical, and the goal is to predict the value of the target variable. The target variable can take on any value within a certain range or interval."
      ],
      "metadata": {
        "id": "QKqyeIvI7kPR"
      }
    },
    {
      "cell_type": "markdown",
      "source": [
        "# Explain the ConCept of ensemble learninG"
      ],
      "metadata": {
        "id": "ayUtBm4w74LD"
      }
    },
    {
      "cell_type": "markdown",
      "source": [
        "Ensemble learning is a powerful machine learning technique that involves combining the predictions of multiple base models to produce a more accurate and robust prediction model. The idea is to leverage the strengths of individual models and reduce their weaknesses by aggregating their outputs"
      ],
      "metadata": {
        "id": "FlLva5_i8XPk"
      }
    },
    {
      "cell_type": "markdown",
      "source": [
        "# What is Gradient desCent and how does it work"
      ],
      "metadata": {
        "id": "FL-RRJpy8b7j"
      }
    },
    {
      "cell_type": "markdown",
      "source": [
        "Gradient Descent (GD) is a popular optimization algorithm used to minimize the loss function in machine learning and deep learning. It's an iterative method that adjusts the model's parameters to find the values that minimize the difference between the predicted output and the actual output."
      ],
      "metadata": {
        "id": "xVfUn4du8t6N"
      }
    },
    {
      "cell_type": "markdown",
      "source": [
        "# DesCribe the differenCe between batCh Gradient desCent and stoChastiC Gradient desCent"
      ],
      "metadata": {
        "id": "1BjJMFWa8y8S"
      }
    },
    {
      "cell_type": "markdown",
      "source": [
        "**Batch Gradient Descent (BGD)**\n",
        "\n",
        "* **Computational complexity**: High, as it requires computing the gradient for the entire dataset.\n",
        "* **Memory requirements**: High, as it needs to store the entire dataset in memory.\n",
        "* **Convergence**: Guaranteed to converge to a local minimum, but may be slow.\n",
        "* **Noise robustnes**: Less robust to noisy data, as it's sensitive to outliers\n",
        "\n",
        "**Stochastic Gradient Descent (SGD)**\n",
        "\n",
        "* **Computational complexity**: Low, as it only requires computing the gradient for a single example.\n",
        "* **Memory requirements**: Low, as it only needs to store a single example in memory.\n",
        "* **Convergence**: May not converge to a local minimum, but can converge to a good enough solution.\n",
        "* **Noise robustness**: More robust to noisy data, as it's less affected by outliers."
      ],
      "metadata": {
        "id": "D9Dg354X9C9l"
      }
    },
    {
      "cell_type": "markdown",
      "source": [
        "# What is the Curse of dimensionality in maCHine learnin0"
      ],
      "metadata": {
        "id": "nMKbfcHc8y4_"
      }
    },
    {
      "cell_type": "markdown",
      "source": [
        "The Curse of Dimensionality is a phenomenon that occurs when dealing with high-dimensional data in machine learning. It refers to the exponential increase in complexity and difficulty of modeling and analyzing data as the number of features or dimensions grows."
      ],
      "metadata": {
        "id": "7camr61T8y2O"
      }
    },
    {
      "cell_type": "markdown",
      "source": [
        "# Explain the difference between L1 and L2 regularization"
      ],
      "metadata": {
        "id": "DVUCv9LC8yzg"
      }
    },
    {
      "cell_type": "markdown",
      "source": [
        "**L1 and L2 Regularization: **\n",
        "Regularization is a crucial technique in machine learning to prevent overfitting by adding a penalty term to the loss function. Two popular regularization techniques are L1 and L2 regularization, also known as Lasso and Ridge regression, respectively.\n",
        "**L1 Regularization (Lasso)**\n",
        "* **Sparsity**: L1 regularization promotes sparsity in the model's weights, meaning that some weights will be set to zero.\n",
        "* **Feature selection**: L1 regularization can be used for feature selection, as it sets irrelevant features to zero.\n",
        "* **Non-differentiable**: The L1 penalty term is non-differentiable at w=0, which can make optimization more challenging.\n",
        "\n",
        "**L2 Regularization (Ridge)**\n",
        "\n",
        "* **Smoothness**: L2 regularization promotes smoothness in the model's weights, meaning that large weights are penalized more heavily.\n",
        "* **No feature selection**: L2 regularization does not set any weights to zero, so it does not perform feature selection.\n",
        "* **Differentiable**: The L2 penalty term is differentiable, making optimization easier."
      ],
      "metadata": {
        "id": "Yq-y-NTp8ywe"
      }
    },
    {
      "cell_type": "markdown",
      "source": [
        "# what is a confusion matrix and how is it used"
      ],
      "metadata": {
        "id": "6emioLaR8ytp"
      }
    },
    {
      "cell_type": "markdown",
      "source": [
        "A Confusion Matrix is a square table\n",
        "Components of a Confusion Matrix:\n",
        "\n",
        "**True Positives (TP)**: The number of true instances of a class that are correctly predicted by the model.\n",
        "\n",
        "**True Negatives (TN)**: The number of true instances of a class that are correctly rejected by the model.\n",
        "\n",
        "**False Positives (FP**): The number of false instances of a class that are incorrectly predicted by the model.\n",
        "\n",
        "**False Negatives (FN)**: The number of true instances of a class that are incorrectly rejected by the model."
      ],
      "metadata": {
        "id": "uYy2KJS58yq4"
      }
    },
    {
      "cell_type": "markdown",
      "source": [
        "# Define AUC-ROC curve"
      ],
      "metadata": {
        "id": "L81aOpRoAKQ7"
      }
    },
    {
      "cell_type": "markdown",
      "source": [
        "The AUC-ROC Curve is a graphical representation of the performance of a binary classification model, plotting the True Positive Rate (Sensitivity) against the False Positive Rate (1 - Specificity) at different thresholds. It provides a comprehensive evaluation of the model's ability to distinguish between positive and negative classes.\n",
        "AUC-ROC stands for Area Under the Receiver Operating Characteristic Curve. It's a measure of the model's ability to correctly classify instances as positive or negative."
      ],
      "metadata": {
        "id": "yBDfyxiuAOB6"
      }
    },
    {
      "cell_type": "markdown",
      "source": [
        "# Explain the k-nearest neighbors algorithm"
      ],
      "metadata": {
        "id": "fNh0CvhmAbkR"
      }
    },
    {
      "cell_type": "markdown",
      "source": [
        "The K-Nearest Neighbors (KNN) algorithm is a popular supervised learning algorithm used for classification and regression tasks. It's a simple, intuitive, and effective algorithm that has been widely used in various fields, including image and speech recognition, natural language processing, and bioinformatics."
      ],
      "metadata": {
        "id": "AzrBBz3fApoS"
      }
    },
    {
      "cell_type": "markdown",
      "source": [
        "# Explain the basic concept of a Support Vector Machine (SVM)"
      ],
      "metadata": {
        "id": "RnAGcaWPAq5U"
      }
    },
    {
      "cell_type": "markdown",
      "source": [
        "A Support Vector Machine (SVM) is a popular supervised learning algorithm used for classification and regression tasks. SVMs are known for their ability to handle high-dimensional data, noisy data, and non-linearly separable data.\n",
        "\n",
        "The basic concept of an SVM is to find a decision boundary (hyperplane) that maximally separates the classes in the feature space. The goal is to find the hyperplane that has the largest distance (margin) to the nearest data points (support vectors) of each class"
      ],
      "metadata": {
        "id": "PntkIuwYA6Ym"
      }
    },
    {
      "cell_type": "markdown",
      "source": [
        "# How does the kernel trick work in SVM?"
      ],
      "metadata": {
        "id": "LZ-ujcfEA-T1"
      }
    },
    {
      "cell_type": "markdown",
      "source": [
        "The kernel trick is a way to compute the dot product of two vectors in a higher-dimensional space, without actually transforming the data into that space. This is done by using a kernel function, which maps the data from the original space to a higher-dimensional space, called the feature space."
      ],
      "metadata": {
        "id": "MWliAyLjBLLS"
      }
    },
    {
      "cell_type": "markdown",
      "source": [
        "# what are the different types of kernels used in SVM and when would you use each"
      ],
      "metadata": {
        "id": "qhjCljyuBWEe"
      }
    },
    {
      "cell_type": "markdown",
      "source": [
        "**1. Linear Kernel**\n",
        "\n",
        "* k(x, y) = x · y\n",
        "\n",
        "When to use:\n",
        "\n",
        "When the data is linearly separable in the original space.\n",
        "When the number of features is large, and the data is sparse.\n",
        "When computational efficiency is crucial\n",
        "\n",
        "**2.Polynomial Kernel**\n",
        "\n",
        "* k(x, y) = (x · y + 1)^d\n",
        "\n",
        "When to use:\n",
        "\n",
        "When the data is not linearly separable, but can be separated by a polynomial curve.\n",
        "When the degree of the polynomial (d) is known or can be estimated.\n",
        "When the data has a small number of features.\n",
        "\n",
        "3. **Radial Basis Function (RBF) Kernel**\n",
        "\n",
        "* k(x, y) = exp(-γ ||x - y||^2)\n",
        "\n",
        "When to use:\n",
        "\n",
        "When the data is not linearly separable, and the relationship between features is complex.\n",
        "When the data has a large number of features, and the relationships between them are non-linear.\n",
        "When the data is noisy or has outliers.\n",
        "\n",
        "4.**Sigmoid Kernel**\n",
        "\n",
        "* k(x, y) = tanh(x · y + 1)\n",
        "\n",
        "When to use:\n",
        "\n",
        "When the data is not linearly separable, and the relationship between features is complex.\n",
        "When the data has a small number of features, and the relationships between them are non-linear.\n",
        "When the data is binary or has a small number of classes.\n",
        "\n"
      ],
      "metadata": {
        "id": "_XOEOAhLBjRp"
      }
    },
    {
      "cell_type": "markdown",
      "source": [
        "# what is the hyperplane in SVM and how is it determined"
      ],
      "metadata": {
        "id": "7p0HMnnbCZIf"
      }
    },
    {
      "cell_type": "markdown",
      "source": [
        "Hyperplane in SVM:\n",
        "Definition:\n",
        "\n",
        "In a SVM, the hyperplane is a subspace (a flat affine space) of one less dimension than the input feature space. For instance, in a 2-dimensional feature space, the hyperplane is a line. In a 3-dimensional feature space, it's a 2-dimensional plane, and so on.\n",
        "The hyperplane is defined as the set of points\n",
        "𝑥\n",
        "x that satisfy\n",
        "⟨\n",
        "𝑤\n",
        ",\n",
        "𝑥\n",
        "⟩\n",
        "+\n",
        "𝑏\n",
        "=\n",
        "0\n",
        "⟨w,x⟩+b=0, where\n",
        "𝑤\n",
        "w is the normal vector to the hyperplane (weights vector),\n",
        "𝑏\n",
        "b is the bias term, and\n",
        "⟨\n",
        "⋅\n",
        ",\n",
        "⋅\n",
        "⟩\n",
        "⟨⋅,⋅⟩ denotes the dot product."
      ],
      "metadata": {
        "id": "eGgOQR7jC3yX"
      }
    },
    {
      "cell_type": "markdown",
      "source": [
        "# what are the pros and cons of using a Support Vector Machine (SVM)"
      ],
      "metadata": {
        "id": "KVMTsteaDntS"
      }
    },
    {
      "cell_type": "markdown",
      "source": [
        "**Pros of SVMs:**\n",
        "* Effective in High-Dimensional Spaces\n",
        "* Memory Efficient\n",
        "* Versatile with Kernel Functions\n",
        "\n",
        "\n",
        "**Cons of SVMs**\n",
        "* Sensitivity to Kernel Choice and Parameters\n",
        "* Computationally Intensive\n",
        "* Memory Usage"
      ],
      "metadata": {
        "id": "15mBvlOvC6S7"
      }
    },
    {
      "cell_type": "markdown",
      "source": [
        "# Explain the difference between a hard margin and a soft margin SVM"
      ],
      "metadata": {
        "id": "S2bskNpIDvdt"
      }
    },
    {
      "cell_type": "markdown",
      "source": [
        "**Hard Margin SVM:**\n",
        "* **Objective:**\n",
        "\n",
        "A hard margin SVM aims to find a hyperplane that perfectly separates the two classes in the dataset without allowing any misclassifications (no training errors).\n",
        "* **Assumption:**\n",
        "\n",
        "It assumes that the data is linearly separable, meaning there exists a hyperplane that can completely separate all training examples of one class from those of the other class.\n",
        "\n",
        "**Soft Margin SVM:**\n",
        "* **Objective**\n",
        "\n",
        "A soft margin SVM relaxes the strict requirement of the hard margin SVM by allowing some misclassifications (training errors) to achieve a better overall margin and generalize better to unseen data.\n",
        "* **Assumption:**\n",
        "\n",
        "It assumes that the data may not be perfectly separable by a hyperplane in the original feature space."
      ],
      "metadata": {
        "id": "eXvBIBY1D16-"
      }
    },
    {
      "cell_type": "markdown",
      "source": [
        "# Describe the process of construction a decision tree"
      ],
      "metadata": {
        "id": "04NEMbxBEWG9"
      }
    },
    {
      "cell_type": "markdown",
      "source": [
        "Constructing a decision tree involves a recursive partitioning process that divides the data into subsets based on the values of input features\n",
        "* Splitting Criteria Selection\n",
        "* Recursive Partitioning\n",
        "* Stopping Criteria\n",
        "* Handling Categorical and Numeric Features\n",
        "* Recursive Construction\n",
        "* Tree Pruning (Optional)\n",
        "* Output\n"
      ],
      "metadata": {
        "id": "XGPJj_S3EmGY"
      }
    },
    {
      "cell_type": "markdown",
      "source": [
        "# Describe the working principle of a decision tree"
      ],
      "metadata": {
        "id": "ye0xvXrVFDAY"
      }
    },
    {
      "cell_type": "markdown",
      "source": [
        "\n",
        "The working principle of a decision tree revolves around the concept of recursively partitioning the input space (feature space) into subsets based on feature values"
      ],
      "metadata": {
        "id": "tZQGBn_iFJ7Y"
      }
    },
    {
      "cell_type": "markdown",
      "source": [
        "# what is information gain and how is it used in decision trees"
      ],
      "metadata": {
        "id": "R2O-3VyzIDrr"
      }
    },
    {
      "cell_type": "markdown",
      "source": [
        "Information gain is a concept used in decision trees to measure the effectiveness of a feature in classifying the training data. It quantifies the reduction in uncertainty about the target variable (class labels) provided by splitting the data on a particular feature.\n",
        "\n",
        "Information gain is crucial in decision trees because it guides the tree-building process by identifying features that best discriminate between different classes. By maximizing information gain at each split, decision trees can efficiently partition the data into homogeneous subsets, leading to a tree structure that accurately predicts the target variable."
      ],
      "metadata": {
        "id": "0N0YJUzaISf2"
      }
    },
    {
      "cell_type": "markdown",
      "source": [
        "# Explain Gini impurity and its role in decision trees"
      ],
      "metadata": {
        "id": "E84MSE6hIZDx"
      }
    },
    {
      "cell_type": "markdown",
      "source": [
        "Gini impurity is another measure used in decision trees to evaluate the quality of a split based on the class labels of the data. It quantifies the degree of impurity or uncertainty in a set of examples, where lower values indicate that a set is more pure (contains instances of the same class)."
      ],
      "metadata": {
        "id": "zZrSHBCEIkNi"
      }
    },
    {
      "cell_type": "markdown",
      "source": [
        "# what are the advantages and disadvantages of decision trees"
      ],
      "metadata": {
        "id": "mmcX9FarNliH"
      }
    },
    {
      "cell_type": "markdown",
      "source": [
        "**Advantages of Decision Trees:**\n",
        "* Interpretability\n",
        "* No Data Preprocessing Required\n",
        "* Handles Non-linear Relationships\n",
        "* Handles Missing Values\n",
        "\n",
        "**Disadvantages of Decision Trees**\n",
        "* Overfitting\n",
        "* High Variance\n",
        "* Biased Toward Features with Many Level\n",
        "* Not Suitable for Linear Relationship"
      ],
      "metadata": {
        "id": "DMvHy4HBPoXD"
      }
    },
    {
      "cell_type": "markdown",
      "source": [
        "# How do random forests improve upon decision trees"
      ],
      "metadata": {
        "id": "4TGnNpQcQNC1"
      }
    },
    {
      "cell_type": "markdown",
      "source": [
        "Random Forests improve upon Decision Trees by addressing some of their key limitations, particularly their tendency to overfit and their variance in predictions.\n",
        "**Key Improvements Over Decision Trees:**\n",
        "**Reduced Overfitting: **\n",
        "\n",
        "By training multiple trees on different subsets of the data and averaging their predictions (or using a majority vote for classification), Random Forests reduce overfitting.\n",
        "**Improved Stability and Generalization:**\n",
        "\n",
        "Random Forests mitigate the variance of individual decision trees. Each tree in the forest may overfit to some extent, but by combining many trees, the overall model becomes more stable and less sensitive to noise and outliers in the data\n",
        "\n",
        "**Feature Randomization:**\n",
        "\n",
        "Each decision tree in a Random Forest is trained using a subset of features chosen randomly at each split"
      ],
      "metadata": {
        "id": "76dTHtniQSPI"
      }
    },
    {
      "cell_type": "markdown",
      "source": [
        "# How does a random forest algorithm work"
      ],
      "metadata": {
        "id": "NtISa1VuQ6Oz"
      }
    },
    {
      "cell_type": "markdown",
      "source": [
        "\n",
        "The Random Forest algorithm is an ensemble learning method that builds multiple decision trees during training and outputs the mean prediction (for regression tasks) or the mode of the predictions (for classification tasks) of the individual tree.\n",
        "**. Dataset Preparation**:\n",
        "Input: A dataset with\n",
        "𝑛\n",
        "n samples and\n",
        "𝑚\n",
        "m features, where each sample has a corresponding target variable (for supervised learning).\n",
        "\n",
        "2. **Random Sampling (Bootstrap Sampling)**:\n",
        "Bagging: Random Forest starts by creating multiple bootstrap samples (random samples with replacement) from the original dataset.\n",
        "\n",
        "3. **Ensemble Learning**:\n",
        "Multiple Trees: Several decision trees are grown independently from each other, each using a different bootstrap sample and possibly a different subset of features at each split."
      ],
      "metadata": {
        "id": "pXAgdLW9RDVB"
      }
    },
    {
      "cell_type": "markdown",
      "source": [
        "# What is bootstrapping in the context of random forests"
      ],
      "metadata": {
        "id": "zfCHDKP_Rj7A"
      }
    },
    {
      "cell_type": "markdown",
      "source": [
        "In the context of Random Forests, bootstrapping refers to the process of sampling with replacement from the original dataset to create multiple subsets, each used for training individual decision trees in the ensemble."
      ],
      "metadata": {
        "id": "v8Z3dLTNRrXW"
      }
    },
    {
      "cell_type": "markdown",
      "source": [
        "# Explain the concept of feature importance in random forests"
      ],
      "metadata": {
        "id": "7GiSd5R7Rz0f"
      }
    },
    {
      "cell_type": "markdown",
      "source": [
        "Feature importance in Random Forests refers to a technique used to evaluate the relevance of each feature in making accurate predictions within the ensemble. It quantifies how much each feature contributes to reducing impurity (Gini impurity or entropy) when making decisions across all decision trees in the forest."
      ],
      "metadata": {
        "id": "of0wEnS6R8ej"
      }
    },
    {
      "cell_type": "markdown",
      "source": [
        "# what are the key hyperparameters of a random forest and how do they affect the model/"
      ],
      "metadata": {
        "id": "H7CtmeDvTUlC"
      }
    },
    {
      "cell_type": "markdown",
      "source": [
        "1.**Number of Trees (n_estimators):**\n",
        "Definition: This hyperparameter determines the number of decision trees in the forest.\n",
        "2. **Tree Depth (max_depth):**\n",
        "Definition: Controls the maximum depth of each decision tree in the forest.\n",
        "3.**Minimum Samples Split (min_samples_split):**\n",
        "Definition: The minimum number of samples required to split an internal node.\n",
        "4.**Minimum Samples Leaf (min_samples_leaf)**:\n",
        "Definition: The minimum number of samples required to be at a leaf node.\n",
        "5. **Maximum Features (max_features):**\n",
        "Definition: The number of features to consider when looking for the best split.\n",
        "6.** Bootstrap Sampling (bootstrap):**\n",
        "Definition: Whether bootstrap samples are used when building trees."
      ],
      "metadata": {
        "id": "aSBuNU6VTblV"
      }
    },
    {
      "cell_type": "markdown",
      "source": [
        "# Describe the logistic regression model and its assumptions"
      ],
      "metadata": {
        "id": "ZZuY0ImNUBok"
      }
    },
    {
      "cell_type": "markdown",
      "source": [
        "\n",
        "Logistic regression is a statistical model used for binary classification tasks, where the outcome or dependent variable\n",
        "𝑦\n",
        "y is categorical and has two possible classes (e.g., yes/no, 1/0, true/false). It models the probability that an instance belongs to a particular class based on predictor variables or independent variables\n",
        "𝑥\n",
        "=\n",
        "(\n",
        "𝑥\n",
        "1\n",
        ",\n",
        "𝑥\n",
        "2\n",
        ",\n",
        "…\n",
        ",\n",
        "𝑥\n",
        "𝑝\n",
        ")\n",
        "x=(x\n",
        "1\n",
        "​\n",
        " ,x\n",
        "2\n",
        "​\n",
        " ,…,x\n",
        "p\n",
        "​\n",
        " )."
      ],
      "metadata": {
        "id": "X6Td0kgcUJ2n"
      }
    },
    {
      "cell_type": "markdown",
      "source": [
        "#  How does logistic regression handle binary cassification problems"
      ],
      "metadata": {
        "id": "9OLr08xfUS1H"
      }
    },
    {
      "cell_type": "markdown",
      "source": [
        "1. Modeling the Probability:\n",
        "Logistic regression models the probability\n",
        "𝑝\n",
        "(\n",
        "𝑥\n",
        ")\n",
        "p(x) that an instance\n",
        "𝑥\n",
        "=\n",
        "(\n",
        "𝑥\n",
        "1\n",
        ",\n",
        "𝑥\n",
        "2\n",
        ",\n",
        "…\n",
        ",\n",
        "𝑥\n",
        "𝑝\n",
        ")\n",
        "x=(x\n",
        "1\n",
        "​\n",
        " ,x\n",
        "2\n",
        "​\n",
        " ,…,x\n",
        "p\n",
        "​\n",
        " ) belongs to the positive class (class 1\n",
        "\n",
        " 2. Decision Rule:\n",
        "To make predictions, logistic regression uses a decision rule based on the predicted probability\n",
        "𝑝\n",
        "(\n",
        "𝑥\n",
        ")\n"
      ],
      "metadata": {
        "id": "cKuaq4qPUcke"
      }
    },
    {
      "cell_type": "markdown",
      "source": [
        "# what is the sigmoid function and how is it used in logistic regression"
      ],
      "metadata": {
        "id": "Xb3xNiVbJeOd"
      }
    },
    {
      "cell_type": "markdown",
      "source": [
        "The sigmoid function, often denoted as\n",
        "𝜎\n",
        "(\n",
        "𝑧\n",
        ")\n",
        "σ(z), is a mathematical function that maps any real-valued number to a value between 0 and 1.\n",
        "Use in Logistic Regression\n",
        "In logistic regression, the sigmoid function is used to model the probability that a given input example\n",
        "𝑥\n",
        "x belongs to a particular class (typically the positive class, often labeled as 1). The output of logistic regression\n",
        "𝑝\n",
        "^\n",
        "(\n",
        "𝑥\n",
        ")\n",
        "p\n",
        "^\n",
        "​\n",
        " (x) is given by:\n",
        "\n",
        "𝑝\n",
        "^\n",
        "(\n",
        "𝑥\n",
        ")\n",
        "=\n",
        "𝜎\n",
        "(\n",
        "𝑤\n",
        "𝑇\n",
        "𝑥\n",
        "+\n",
        "𝑏\n",
        ")\n",
        "p\n",
        "^\n",
        "​\n",
        " (x)=σ(w\n",
        "T\n",
        " x+b)"
      ],
      "metadata": {
        "id": "wiWlBTwaJeKw"
      }
    },
    {
      "cell_type": "markdown",
      "source": [
        "# Explain the concept of the cost function in lo0istic regression"
      ],
      "metadata": {
        "id": "oAXI9vpgJeG-"
      }
    },
    {
      "cell_type": "markdown",
      "source": [
        "In logistic regression, the cost function (or loss function) is a crucial component used to quantify the error between the predicted values of the model and the actual target values in the training data. The goal of logistic regression is to find the optimal parameters (weights and bias) that minimize this cost function, thereby improving the accuracy of predictions.\n",
        "\n"
      ],
      "metadata": {
        "id": "ugGIe5TxJeCw"
      }
    },
    {
      "cell_type": "markdown",
      "source": [
        "# How can logistic regression be extended to handle multiclass classification"
      ],
      "metadata": {
        "id": "hrwNMzv-Jd-3"
      }
    },
    {
      "cell_type": "markdown",
      "source": [
        "Logistic regression is inherently a binary classification algorithm, meaning it's designed to classify instances into one of two classes. However, it can be extended to handle multi-class classification tasks using several techniques.\n",
        "\n",
        "**One-vs-Rest**: Simple to implement and often works well. However, each classifier is trained independently, which can lead to imbalanced class distributions in training sets and less direct optimization for multi-class accuracy.\n",
        "\n",
        "**Multinomial Logistic Regression**: Directly optimizes a joint probability distribution over all classes, potentially leading to better overall performance. It's also computationally more efficient when compared to training multiple binary classifiers."
      ],
      "metadata": {
        "id": "zndSGJz7Jd6m"
      }
    },
    {
      "cell_type": "markdown",
      "source": [
        "# what is the difference between L1 and L2 regularization in logistic regression"
      ],
      "metadata": {
        "id": "f-PFfHiPJdud"
      }
    },
    {
      "cell_type": "markdown",
      "source": [
        "**L1 Regularization (Lasso)**\n",
        "\n",
        "Sparsity: L1 regularization promotes sparsity in the model's weights, meaning that some weights will be set to zero.\n",
        "Feature selection: L1 regularization can be used for feature selection, as it sets irrelevant features to zero.\n",
        "Non-differentiable: The L1 penalty term is non-differentiable at w=0, which can make optimization more challenging.\n",
        "\n",
        "**L2 Regularization (Ridge)**\n",
        "\n",
        "Smoothness: L2 regularization promotes smoothness in the model's weights, meaning that large weights are penalized more heavily.\n",
        "No feature selection: L2 regularization does not set any weights to zero, so it does not perform feature selection.\n",
        "Differentiable: The L2 penalty term is differentiable, making optimization easier."
      ],
      "metadata": {
        "id": "Ve-Hs_AqPSL3"
      }
    },
    {
      "cell_type": "markdown",
      "source": [
        "# what is XGBoost and how does it differ from other boosting algorithms"
      ],
      "metadata": {
        "id": "NCxPnP9-PaBm"
      }
    },
    {
      "cell_type": "markdown",
      "source": [
        "**XGBoost (Extreme Gradient Boosting)**\n",
        "\n",
        "It is a powerful machine learning algorithm that is particularly popular for structured/tabular data. It belongs to the class of ensemble learning methods known as gradient boosting, which sequentially combines multiple weak learners (typically decision trees) to create a strong predictive model.\n",
        "\n",
        "**LightGBM vs. XGBoost:** LightGBM is another popular gradient boosting framework that is similar to XGBoost but differs in its approach to tree growth and leaf-wise rather than level-wise tree growth strategy\n",
        "\n",
        "**AdaBoost vs. XGBoost**: AdaBoost (Adaptive Boosting) is an earlier boosting algorithm that updates the weights of incorrectly classified instances and combines weak learners based on these weights\n",
        "\n",
        "**Gradient Boosting Machines (GBM) vs. XGBoost**: Traditional gradient boosting machines fit decision trees on gradients of loss functions"
      ],
      "metadata": {
        "id": "ivxg6WcHQEXL"
      }
    },
    {
      "cell_type": "markdown",
      "source": [
        "# Explain the concept of boosting in the context of ensemble learning"
      ],
      "metadata": {
        "id": "lzBeBS73QdF2"
      }
    },
    {
      "cell_type": "markdown",
      "source": [
        "\n",
        "Boosting is a powerful ensemble learning technique in machine learning where multiple weak learners (often simple models like decision trees) are combined sequentially to form a strong learner\n",
        "\n",
        "**Advantages of Boosting:**\n",
        "Improved Accuracy: Boosting often leads to higher accuracy compared to individual models or simple averaging methods.\n",
        "\n",
        "**Handles Complex Patterns:**It can effectively capture complex patterns in data by focusing on difficult instances.\n",
        "\n",
        "**Robustness**: Boosting tends to be less prone to overfitting compared to some other machine learning techniques."
      ],
      "metadata": {
        "id": "bSD6u7d9Qtt9"
      }
    },
    {
      "cell_type": "markdown",
      "source": [
        "# How does XGBoost handle missing values"
      ],
      "metadata": {
        "id": "bp7HPryyRuo6"
      }
    },
    {
      "cell_type": "markdown",
      "source": [
        "**Handling Missing Values in XGBoost:**\n",
        "**Default Direction Handling:**\n",
        "\n",
        "During the training process, XGBoost can handle missing values by learning the default direction to go in case a value is missing for a particular feature.\n",
        "\n",
        "**Sparsity Aware Split Finding**:\n",
        "\n",
        "XGBoost is designed to be \"sparsity-aware,\" meaning it can efficiently handle sparse data where many values may be missing or zero.\n",
        "\n",
        "**Built-in Capability:**\n",
        "\n",
        "XGBoost incorporates the handling of missing values as part of its internal algorithm, which is advantageous because it does not require preprocessing steps such as imputation or manual handling of missing data before training.\n",
        "\n",
        "**Tree Construction:**\n",
        "\n",
        "When constructing each decision tree in the ensemble, XGBoost decides how to handle missing values based on the data it has seen up to that point in training."
      ],
      "metadata": {
        "id": "_7Vubzq5SGip"
      }
    },
    {
      "cell_type": "markdown",
      "source": [
        "# what are the key hyperparameters in XGBoost and how do they affect model performance"
      ],
      "metadata": {
        "id": "H4l-wnd-ShVV"
      }
    },
    {
      "cell_type": "markdown",
      "source": [
        "**Key Hyperparameters in XGBoost:**\n",
        "**Learning Rate (eta):**\n",
        "\n",
        "**Effect:** Controls the contribution of each tree to the ensemble. Lower values make the model more robust by shrinking the weights of each step (tree) during boosting, but require more trees (higher n_estimators) to achieve similar performance.\n",
        "\n",
        "**Number of Trees (n_estimators)**:\n",
        "\n",
        "Effect: The number of boosting rounds or trees to build. Increasing n_estimators generally improves model performance as it allows the model to learn more complex patterns, but can lead to overfitting if set too high\n",
        "\n",
        "**Minimum Child Weight (min_child_weight):**\n",
        "\n",
        "Effect: Minimum sum of instance weight (hessian) needed in a child node. It helps control overfitting by ensuring that each leaf node contains a minimum number of instances."
      ],
      "metadata": {
        "id": "C7gBFeyySnmg"
      }
    },
    {
      "cell_type": "markdown",
      "source": [
        "# Describe the process of gradient boostin0 in XGBoost"
      ],
      "metadata": {
        "id": "9wqqBSk3S5Pq"
      }
    },
    {
      "cell_type": "markdown",
      "source": [
        "Gradient boosting in XGBoost (Extreme Gradient Boosting) is a sequential ensemble learning technique that builds a series of decision trees iteratively, where each tree corrects the errors of its predecessor.\n"
      ],
      "metadata": {
        "id": "wxXagwvOTPTh"
      }
    },
    {
      "cell_type": "markdown",
      "source": [
        "# what are the advanta0es and disadvanta0es of usin0 XGBoost?"
      ],
      "metadata": {
        "id": "HAndVKFmTRKw"
      }
    },
    {
      "cell_type": "markdown",
      "source": [
        "**Advantages of using XGBoost:**\n",
        "\n",
        "**High Accuracy**: XGBoost is known for its high accuracy and performance. It has been consistently ranked as one of the top algorithms in many Kaggle competitions.\n",
        "**Handling Missing Values**: XGBoost can handle missing values in the data, which is a common problem in many real-world datasets.\n",
        "**Handling Large Datasets**: XGBoost is designed to handle large datasets and can scale to handle big data.\n",
        "\n",
        "**Disadvantages of using XGBoost**\n",
        "\n",
        "**Overfitting:** XGBoost can suffer from overfitting, especially when the dataset is small or noisy.\n",
        "**Computational Resources**: While XGBoost is fast, it can still require significant computational resources, especially for large datasets.\n",
        "**Hyperparameter Tuning**: XGBoost has many hyperparameters that need to be tuned, which can be time-consuming and require expertise."
      ],
      "metadata": {
        "id": "EzWX3CGnTV_n"
      }
    }
  ]
}